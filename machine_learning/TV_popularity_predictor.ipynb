{
 "cells": [
  {
   "cell_type": "markdown",
   "metadata": {},
   "source": [
    "# TV shows Popularity Predictor (39%)\n",
    "\n",
    "The goal of this challenge is to create a model that predicts the `popularity` of a movie or TV show\n",
    "\n",
    "<img src=\"image.jpg\" width=300 />\n",
    "\n",
    "\n",
    "\n",
    "\n",
    "The dataset contains a list of movies and TV shows with the following characteristics:\n",
    "- `title`: title of the movie in english\n",
    "- `original_title`: original title of the movie \n",
    "- `duration_min`: duration of the movie in minutes\n",
    "- `popularity`: popularity of the movie in terms of review scores\n",
    "- `release_date`: release date\n",
    "- `description`: short summary of the movie\n",
    "- `budget`: budget spent to produce the movie in USD\n",
    "- `revenue`: movie revenue in USD \n",
    "- `original_language`: original language \n",
    "- `status`: is the movie already released or not\n",
    "- `number_of_awards_won`: number of awards won for the movie\n",
    "- `number_of_nominations`: number of nominations\n",
    "- `has_collection`: if the movie is part of a sequel or not\n",
    "- `all_genres`: genres that described the movie (can be zero, one or many!) \n",
    "- `top_countries`: countries where the movie was produced (can be zero, one or many!) \n",
    "- `number_of_top_productions`: number of top production companies that produced the film if any. \n",
    "Top production companies includes: Warner Bros, Universal Pictures, Paramount Pictures, Canal+, etc...\n",
    "- `available_in_english`: whether the movie is available in english or not"
   ]
  },
  {
   "cell_type": "markdown",
   "metadata": {},
   "source": [
    "## Imports\n",
    "\n",
    "Run the following cell to load the basic packages:"
   ]
  },
  {
   "cell_type": "code",
   "execution_count": 1,
   "metadata": {
    "ExecuteTime": {
     "end_time": "2021-06-30T07:11:03.172077Z",
     "start_time": "2021-06-30T07:11:01.626927Z"
    }
   },
   "outputs": [],
   "source": [
    "import numpy as np\n",
    "import pandas as pd\n",
    "import matplotlib.pyplot as plt\n",
    "import seaborn as sns\n",
    "from nbresult import ChallengeResult"
   ]
  },
  {
   "cell_type": "markdown",
   "metadata": {},
   "source": [
    "## Data collection\n",
    "\n",
    "📝 **Load the `movie_popularity.csv` dataset from the provided this [URL](https://wagon-public-datasets.s3.amazonaws.com/certification_france_2021_q2/tv_movies_popularity.csv)**\n",
    "- First, check and remove the rows that may be complete duplicate from one another (we never know!)\n",
    "- Then, drop the columns that have too much missing values\n",
    "- Finally, drop the few remaining rows that have missing values\n",
    "- Store the result in a `DataFrame` named `data`"
   ]
  },
  {
   "cell_type": "code",
   "execution_count": 2,
   "metadata": {
    "ExecuteTime": {
     "end_time": "2021-06-30T07:11:03.658000Z",
     "start_time": "2021-06-30T07:11:03.607588Z"
    },
    "slideshow": {
     "slide_type": "notes"
    },
    "tags": [
     "challengify"
    ]
   },
   "outputs": [
    {
     "data": {
      "text/plain": [
       "(6864, 17)"
      ]
     },
     "execution_count": 2,
     "metadata": {},
     "output_type": "execute_result"
    }
   ],
   "source": [
    "# YOUR CODE HERE\n",
    "data_raw = pd.read_csv('tv_movies_popularity.csv')\n",
    "data_raw.shape"
   ]
  },
  {
   "cell_type": "code",
   "execution_count": 3,
   "metadata": {
    "ExecuteTime": {
     "end_time": "2021-06-30T07:11:05.134271Z",
     "start_time": "2021-06-30T07:11:05.108200Z"
    }
   },
   "outputs": [
    {
     "data": {
      "text/plain": [
       "(6464, 17)"
      ]
     },
     "execution_count": 3,
     "metadata": {},
     "output_type": "execute_result"
    }
   ],
   "source": [
    "data_raw = data_raw.drop_duplicates()\n",
    "data_raw.shape"
   ]
  },
  {
   "cell_type": "code",
   "execution_count": 4,
   "metadata": {
    "ExecuteTime": {
     "end_time": "2021-06-30T07:11:06.133832Z",
     "start_time": "2021-06-30T07:11:06.124723Z"
    }
   },
   "outputs": [
    {
     "data": {
      "text/plain": [
       "original_title                  0\n",
       "title                           1\n",
       "popularity                      0\n",
       "release_date                    0\n",
       "duration_min                    0\n",
       "description                     0\n",
       "budget                          0\n",
       "revenue                      3847\n",
       "original_language               0\n",
       "status                          0\n",
       "number_of_awards_won            0\n",
       "number_of_nominations           0\n",
       "has_collection                  0\n",
       "all_genres                      0\n",
       "top_countries                   0\n",
       "number_of_top_productions       0\n",
       "available_in_english            0\n",
       "dtype: int64"
      ]
     },
     "execution_count": 4,
     "metadata": {},
     "output_type": "execute_result"
    }
   ],
   "source": [
    "data_raw.isnull().sum()"
   ]
  },
  {
   "cell_type": "code",
   "execution_count": 6,
   "metadata": {
    "ExecuteTime": {
     "end_time": "2021-06-30T07:11:16.130735Z",
     "start_time": "2021-06-30T07:11:16.119024Z"
    }
   },
   "outputs": [
    {
     "data": {
      "text/plain": [
       "original_title               0\n",
       "title                        1\n",
       "popularity                   0\n",
       "release_date                 0\n",
       "duration_min                 0\n",
       "description                  0\n",
       "budget                       0\n",
       "original_language            0\n",
       "status                       0\n",
       "number_of_awards_won         0\n",
       "number_of_nominations        0\n",
       "has_collection               0\n",
       "all_genres                   0\n",
       "top_countries                0\n",
       "number_of_top_productions    0\n",
       "available_in_english         0\n",
       "dtype: int64"
      ]
     },
     "execution_count": 6,
     "metadata": {},
     "output_type": "execute_result"
    }
   ],
   "source": [
    "data_raw = data_raw.drop(columns='revenue')\n",
    "data_raw.isnull().sum()"
   ]
  },
  {
   "cell_type": "code",
   "execution_count": 10,
   "metadata": {
    "ExecuteTime": {
     "end_time": "2021-06-30T07:15:19.997159Z",
     "start_time": "2021-06-30T07:15:19.978515Z"
    }
   },
   "outputs": [
    {
     "data": {
      "text/plain": [
       "(original_title               0\n",
       " title                        0\n",
       " popularity                   0\n",
       " release_date                 0\n",
       " duration_min                 0\n",
       " description                  0\n",
       " budget                       0\n",
       " original_language            0\n",
       " status                       0\n",
       " number_of_awards_won         0\n",
       " number_of_nominations        0\n",
       " has_collection               0\n",
       " all_genres                   0\n",
       " top_countries                0\n",
       " number_of_top_productions    0\n",
       " available_in_english         0\n",
       " dtype: int64,\n",
       " (6463, 16))"
      ]
     },
     "execution_count": 10,
     "metadata": {},
     "output_type": "execute_result"
    }
   ],
   "source": [
    "data = data_raw.dropna()\n",
    "data.isnull().sum(),data.shape\n"
   ]
  },
  {
   "cell_type": "markdown",
   "metadata": {},
   "source": [
    "### 🧪 Run the following cell to save your results"
   ]
  },
  {
   "cell_type": "code",
   "execution_count": 11,
   "metadata": {
    "ExecuteTime": {
     "end_time": "2021-06-30T07:15:35.174547Z",
     "start_time": "2021-06-30T07:15:35.162088Z"
    }
   },
   "outputs": [],
   "source": [
    "from nbresult import ChallengeResult\n",
    "\n",
    "result = ChallengeResult(\n",
    "    \"data_cleaning\",\n",
    "    columns=data.columns,\n",
    "    cleaning=sum(data.isnull().sum()),\n",
    "    shape=data.shape)\n",
    "result.write()"
   ]
  },
  {
   "cell_type": "markdown",
   "metadata": {},
   "source": [
    "## Baseline model"
   ]
  },
  {
   "cell_type": "markdown",
   "metadata": {},
   "source": [
    "### The metric"
   ]
  },
  {
   "cell_type": "markdown",
   "metadata": {},
   "source": [
    "📝 **We want to predict `popularity`: Start by plotting a histogram of the target to visualize it**"
   ]
  },
  {
   "cell_type": "markdown",
   "metadata": {},
   "source": [
    "📝 **Which sklearn's scoring [metric](https://scikit-learn.org/stable/modules/model_evaluation.html) should we use if we want it to:**\n",
    "\n",
    "- Be better when greater (i.e. metric_good_model > metric_bad_model)\n",
    "- Penalize **more** an error between 10 and 20 compared with an error between 110 and 120\n",
    "- Said otherwise, what matter should be the **relative error ratio**, more than the absolute error difference\n",
    "\n",
    "Hint: the histogram plotted above should give you some intuition about it\n",
    "\n",
    "👉 Store its exact [sklearn scoring name](https://scikit-learn.org/stable/modules/model_evaluation.html) as `string` in the variable `scoring` below.\n",
    "\n",
    "🚨 You must use this metric for the rest of the challenge"
   ]
  },
  {
   "cell_type": "code",
   "execution_count": 24,
   "metadata": {
    "ExecuteTime": {
     "end_time": "2021-06-30T07:26:29.169941Z",
     "start_time": "2021-06-30T07:26:28.940895Z"
    }
   },
   "outputs": [
    {
     "data": {
      "text/plain": [
       "(array([5.595e+03, 7.460e+02, 7.800e+01, 1.800e+01, 2.000e+00, 4.000e+00,\n",
       "        3.000e+00, 1.000e+00, 1.000e+00, 1.000e+00, 4.000e+00, 1.000e+00,\n",
       "        0.000e+00, 4.000e+00, 0.000e+00, 1.000e+00, 1.000e+00, 0.000e+00,\n",
       "        0.000e+00, 0.000e+00, 1.000e+00, 1.000e+00, 0.000e+00, 0.000e+00,\n",
       "        0.000e+00, 0.000e+00, 0.000e+00, 0.000e+00, 0.000e+00, 0.000e+00,\n",
       "        0.000e+00, 0.000e+00, 0.000e+00, 0.000e+00, 0.000e+00, 0.000e+00,\n",
       "        0.000e+00, 0.000e+00, 0.000e+00, 1.000e+00]),\n",
       " array([9.64030000e-02, 1.37812004e+01, 2.74659978e+01, 4.11507951e+01,\n",
       "        5.48355925e+01, 6.85203899e+01, 8.22051873e+01, 9.58899846e+01,\n",
       "        1.09574782e+02, 1.23259579e+02, 1.36944377e+02, 1.50629174e+02,\n",
       "        1.64313972e+02, 1.77998769e+02, 1.91683566e+02, 2.05368364e+02,\n",
       "        2.19053161e+02, 2.32737958e+02, 2.46422756e+02, 2.60107553e+02,\n",
       "        2.73792351e+02, 2.87477148e+02, 3.01161945e+02, 3.14846743e+02,\n",
       "        3.28531540e+02, 3.42216337e+02, 3.55901135e+02, 3.69585932e+02,\n",
       "        3.83270730e+02, 3.96955527e+02, 4.10640324e+02, 4.24325122e+02,\n",
       "        4.38009919e+02, 4.51694716e+02, 4.65379514e+02, 4.79064311e+02,\n",
       "        4.92749109e+02, 5.06433906e+02, 5.20118703e+02, 5.33803501e+02,\n",
       "        5.47488298e+02]),\n",
       " <BarContainer object of 40 artists>)"
      ]
     },
     "execution_count": 24,
     "metadata": {},
     "output_type": "execute_result"
    },
    {
     "data": {
      "image/png": "[encoded data removed]",
      "text/plain": [
       "<Figure size 432x288 with 1 Axes>"
      ]
     },
     "metadata": {
      "needs_background": "light"
     },
     "output_type": "display_data"
    }
   ],
   "source": [
    "plt.hist(y, bins=40)"
   ]
  },
  {
   "cell_type": "code",
   "execution_count": 26,
   "metadata": {
    "ExecuteTime": {
     "end_time": "2021-06-30T07:28:36.869392Z",
     "start_time": "2021-06-30T07:28:36.854694Z"
    }
   },
   "outputs": [
    {
     "data": {
      "text/plain": [
       "count    6463.000000\n",
       "mean        9.440948\n",
       "std        12.708256\n",
       "min         0.096403\n",
       "25%         5.325670\n",
       "50%         8.075504\n",
       "75%        11.378155\n",
       "max       547.488298\n",
       "Name: popularity, dtype: float64"
      ]
     },
     "execution_count": 26,
     "metadata": {},
     "output_type": "execute_result"
    }
   ],
   "source": [
    "y.describe()"
   ]
  },
  {
   "cell_type": "code",
   "execution_count": 32,
   "metadata": {
    "ExecuteTime": {
     "end_time": "2021-06-30T07:49:05.639130Z",
     "start_time": "2021-06-30T07:49:05.636357Z"
    },
    "slideshow": {
     "slide_type": "notes"
    },
    "tags": [
     "challengify"
    ]
   },
   "outputs": [],
   "source": [
    "# YOUR CODE HERE\n",
    "scoring = 'neg_mean_squared_log_error'"
   ]
  },
  {
   "cell_type": "markdown",
   "metadata": {},
   "source": [
    "<details>\n",
    "    <summary>💡 Hint</summary>\n",
    "It is around here!\n",
    "<img src=\"scores.jpg\" width=200 height=400 />\n",
    "</details>"
   ]
  },
  {
   "cell_type": "markdown",
   "metadata": {},
   "source": [
    "### X,y"
   ]
  },
  {
   "cell_type": "markdown",
   "metadata": {},
   "source": [
    "**📝 Define `X` as the features Dataframe (keep all features) and `y` as the target Series.**"
   ]
  },
  {
   "cell_type": "code",
   "execution_count": 19,
   "metadata": {
    "ExecuteTime": {
     "end_time": "2021-06-30T07:23:04.307486Z",
     "start_time": "2021-06-30T07:23:04.299206Z"
    },
    "tags": [
     "challengify"
    ]
   },
   "outputs": [
    {
     "data": {
      "text/plain": [
       "((6463, 15), (6463,))"
      ]
     },
     "execution_count": 19,
     "metadata": {},
     "output_type": "execute_result"
    }
   ],
   "source": [
    "# YOUR CODE HERE\n",
    "X = data.drop(columns='popularity')\n",
    "y = data.popularity\n",
    "X.shape, y.shape"
   ]
  },
  {
   "cell_type": "markdown",
   "metadata": {},
   "source": [
    "### Basic pipeline"
   ]
  },
  {
   "cell_type": "markdown",
   "metadata": {},
   "source": [
    "📝 **Check unique values per features**"
   ]
  },
  {
   "cell_type": "code",
   "execution_count": 21,
   "metadata": {
    "ExecuteTime": {
     "end_time": "2021-06-30T07:23:30.539412Z",
     "start_time": "2021-06-30T07:23:30.512732Z"
    },
    "tags": [
     "challengify"
    ]
   },
   "outputs": [
    {
     "data": {
      "text/plain": [
       "original_title               6350\n",
       "title                        6337\n",
       "release_date                 4320\n",
       "duration_min                  152\n",
       "description                  6449\n",
       "budget                        636\n",
       "original_language              42\n",
       "status                          3\n",
       "number_of_awards_won          124\n",
       "number_of_nominations         180\n",
       "has_collection                  2\n",
       "all_genres                    745\n",
       "top_countries                 320\n",
       "number_of_top_productions       5\n",
       "available_in_english            2\n",
       "dtype: int64"
      ]
     },
     "execution_count": 21,
     "metadata": {},
     "output_type": "execute_result"
    }
   ],
   "source": [
    "# YOUR CODE HERE\n",
    "X.nunique()"
   ]
  },
  {
   "cell_type": "markdown",
   "metadata": {},
   "source": [
    "In this baseline, let's forget about the columns below that are difficult to process"
   ]
  },
  {
   "cell_type": "code",
   "execution_count": null,
   "metadata": {
    "ExecuteTime": {
     "end_time": "2021-06-29T17:29:13.102327Z",
     "start_time": "2021-06-29T17:29:13.099066Z"
    }
   },
   "outputs": [],
   "source": [
    "text = ['description', 'original_title', 'title']\n",
    "dates = ['release_date'] "
   ]
  },
  {
   "cell_type": "markdown",
   "metadata": {},
   "source": [
    "We will simply scale the numerical features and one-hot-encode the categorical ones remaining\n",
    "\n",
    "📝 **Prepare 2 `list`s of features names as `str`**:\n",
    "- `numerical` which contains **only** numerical features\n",
    "- `categorical` which contains **only** categorical features (exept text and dates above)"
   ]
  },
  {
   "cell_type": "code",
   "execution_count": 28,
   "metadata": {
    "ExecuteTime": {
     "end_time": "2021-06-30T07:36:28.859133Z",
     "start_time": "2021-06-30T07:36:28.849608Z"
    },
    "tags": [
     "challengify"
    ]
   },
   "outputs": [
    {
     "data": {
      "text/plain": [
       "original_title                object\n",
       "title                         object\n",
       "release_date                  object\n",
       "duration_min                 float64\n",
       "description                   object\n",
       "budget                         int64\n",
       "original_language             object\n",
       "status                        object\n",
       "number_of_awards_won           int64\n",
       "number_of_nominations          int64\n",
       "has_collection                 int64\n",
       "all_genres                    object\n",
       "top_countries                 object\n",
       "number_of_top_productions      int64\n",
       "available_in_english            bool\n",
       "dtype: object"
      ]
     },
     "execution_count": 28,
     "metadata": {},
     "output_type": "execute_result"
    }
   ],
   "source": [
    "# YOUR CODE HERE\n",
    "X.dtypes"
   ]
  },
  {
   "cell_type": "code",
   "execution_count": 29,
   "metadata": {
    "ExecuteTime": {
     "end_time": "2021-06-30T07:40:59.530020Z",
     "start_time": "2021-06-30T07:40:59.525307Z"
    }
   },
   "outputs": [],
   "source": [
    "numerical =['duration_min','budget','number_of_awards_won','number_of_nominations','has_collection','number_of_top_productions']\n",
    "categorical = ['original_language','status','all_genres','top_countries','available_in_english']"
   ]
  },
  {
   "cell_type": "markdown",
   "metadata": {},
   "source": [
    "### Pipelining\n",
    "\n",
    "You are going to build a basic pipeline made of a basic preprocessing and a trees-based model of your choice."
   ]
  },
  {
   "cell_type": "markdown",
   "metadata": {},
   "source": [
    "#### Preprocessing pipeline\n",
    "\n",
    "**📝 Create a basic preprocessing pipeline for the 2 types of features above:**\n",
    "- It should scale the `numerical` features\n",
    "- one-hot-encode the `categorical` and `boolean` features\n",
    "- drop the others\n",
    "- Store your pipeline in a `basic_preprocessing` variable"
   ]
  },
  {
   "cell_type": "code",
   "execution_count": 30,
   "metadata": {
    "ExecuteTime": {
     "end_time": "2021-06-30T07:41:55.760340Z",
     "start_time": "2021-06-30T07:41:55.153989Z"
    }
   },
   "outputs": [],
   "source": [
    "# Execute this cell to enable a nice display for your pipelines\n",
    "from sklearn import set_config; set_config(display='diagram')"
   ]
  },
  {
   "cell_type": "code",
   "execution_count": 54,
   "metadata": {
    "ExecuteTime": {
     "end_time": "2021-06-30T08:08:42.068850Z",
     "start_time": "2021-06-30T08:08:42.063590Z"
    },
    "tags": [
     "challengify"
    ]
   },
   "outputs": [],
   "source": [
    "# YOUR CODE HERE\n",
    "from sklearn.preprocessing import OneHotEncoder\n",
    "from sklearn.preprocessing import StandardScaler\n",
    "from sklearn.compose import ColumnTransformer, make_column_selector\n",
    "\n",
    "basic_num_transformer = StandardScaler()\n",
    "\n",
    "basic_cat_transformer = OneHotEncoder(handle_unknown='ignore')\n",
    "\n",
    "basic_preprocessing = ColumnTransformer([\n",
    "    ('num_transformer', basic_num_transformer, numerical),\n",
    "    ('cat_transformer', basic_cat_transformer, categorical)],sparse_threshold=0)"
   ]
  },
  {
   "cell_type": "code",
   "execution_count": 55,
   "metadata": {
    "ExecuteTime": {
     "end_time": "2021-06-30T08:08:43.671056Z",
     "start_time": "2021-06-30T08:08:43.657469Z"
    }
   },
   "outputs": [
    {
     "data": {
      "text/html": [
       "<style>#sk-093109c7-b9c2-4e0b-8fbf-d32259d25b03 {color: black;background-color: white;}#sk-093109c7-b9c2-4e0b-8fbf-d32259d25b03 pre{padding: 0;}#sk-093109c7-b9c2-4e0b-8fbf-d32259d25b03 div.sk-toggleable {background-color: white;}#sk-093109c7-b9c2-4e0b-8fbf-d32259d25b03 label.sk-toggleable__label {cursor: pointer;display: block;width: 100%;margin-bottom: 0;padding: 0.2em 0.3em;box-sizing: border-box;text-align: center;}#sk-093109c7-b9c2-4e0b-8fbf-d32259d25b03 div.sk-toggleable__content {max-height: 0;max-width: 0;overflow: hidden;text-align: left;background-color: #f0f8ff;}#sk-093109c7-b9c2-4e0b-8fbf-d32259d25b03 div.sk-toggleable__content pre {margin: 0.2em;color: black;border-radius: 0.25em;background-color: #f0f8ff;}#sk-093109c7-b9c2-4e0b-8fbf-d32259d25b03 input.sk-toggleable__control:checked~div.sk-toggleable__content {max-height: 200px;max-width: 100%;overflow: auto;}#sk-093109c7-b9c2-4e0b-8fbf-d32259d25b03 div.sk-estimator input.sk-toggleable__control:checked~label.sk-toggleable__label {background-color: #d4ebff;}#sk-093109c7-b9c2-4e0b-8fbf-d32259d25b03 div.sk-label input.sk-toggleable__control:checked~label.sk-toggleable__label {background-color: #d4ebff;}#sk-093109c7-b9c2-4e0b-8fbf-d32259d25b03 input.sk-hidden--visually {border: 0;clip: rect(1px 1px 1px 1px);clip: rect(1px, 1px, 1px, 1px);height: 1px;margin: -1px;overflow: hidden;padding: 0;position: absolute;width: 1px;}#sk-093109c7-b9c2-4e0b-8fbf-d32259d25b03 div.sk-estimator {font-family: monospace;background-color: #f0f8ff;margin: 0.25em 0.25em;border: 1px dotted black;border-radius: 0.25em;box-sizing: border-box;}#sk-093109c7-b9c2-4e0b-8fbf-d32259d25b03 div.sk-estimator:hover {background-color: #d4ebff;}#sk-093109c7-b9c2-4e0b-8fbf-d32259d25b03 div.sk-parallel-item::after {content: \"\";width: 100%;border-bottom: 1px solid gray;flex-grow: 1;}#sk-093109c7-b9c2-4e0b-8fbf-d32259d25b03 div.sk-label:hover label.sk-toggleable__label {background-color: #d4ebff;}#sk-093109c7-b9c2-4e0b-8fbf-d32259d25b03 div.sk-serial::before {content: \"\";position: absolute;border-left: 1px solid gray;box-sizing: border-box;top: 2em;bottom: 0;left: 50%;}#sk-093109c7-b9c2-4e0b-8fbf-d32259d25b03 div.sk-serial {display: flex;flex-direction: column;align-items: center;background-color: white;}#sk-093109c7-b9c2-4e0b-8fbf-d32259d25b03 div.sk-item {z-index: 1;}#sk-093109c7-b9c2-4e0b-8fbf-d32259d25b03 div.sk-parallel {display: flex;align-items: stretch;justify-content: center;background-color: white;}#sk-093109c7-b9c2-4e0b-8fbf-d32259d25b03 div.sk-parallel-item {display: flex;flex-direction: column;position: relative;background-color: white;}#sk-093109c7-b9c2-4e0b-8fbf-d32259d25b03 div.sk-parallel-item:first-child::after {align-self: flex-end;width: 50%;}#sk-093109c7-b9c2-4e0b-8fbf-d32259d25b03 div.sk-parallel-item:last-child::after {align-self: flex-start;width: 50%;}#sk-093109c7-b9c2-4e0b-8fbf-d32259d25b03 div.sk-parallel-item:only-child::after {width: 0;}#sk-093109c7-b9c2-4e0b-8fbf-d32259d25b03 div.sk-dashed-wrapped {border: 1px dashed gray;margin: 0.2em;box-sizing: border-box;padding-bottom: 0.1em;background-color: white;position: relative;}#sk-093109c7-b9c2-4e0b-8fbf-d32259d25b03 div.sk-label label {font-family: monospace;font-weight: bold;background-color: white;display: inline-block;line-height: 1.2em;}#sk-093109c7-b9c2-4e0b-8fbf-d32259d25b03 div.sk-label-container {position: relative;z-index: 2;text-align: center;}#sk-093109c7-b9c2-4e0b-8fbf-d32259d25b03 div.sk-container {display: inline-block;position: relative;}</style><div id=\"sk-093109c7-b9c2-4e0b-8fbf-d32259d25b03\" class\"sk-top-container\"><div class=\"sk-container\"><div class=\"sk-item sk-dashed-wrapped\"><div class=\"sk-label-container\"><div class=\"sk-label sk-toggleable\"><input class=\"sk-toggleable__control sk-hidden--visually\" id=\"c5d1c7a7-a043-4741-8a59-23686cb99bd2\" type=\"checkbox\" ><label class=\"sk-toggleable__label\" for=\"c5d1c7a7-a043-4741-8a59-23686cb99bd2\">ColumnTransformer</label><div class=\"sk-toggleable__content\"><pre>ColumnTransformer(sparse_threshold=0,\n",
       "                  transformers=[('num_transformer', StandardScaler(),\n",
       "                                 ['duration_min', 'budget',\n",
       "                                  'number_of_awards_won',\n",
       "                                  'number_of_nominations', 'has_collection',\n",
       "                                  'number_of_top_productions']),\n",
       "                                ('cat_transformer',\n",
       "                                 OneHotEncoder(handle_unknown='ignore'),\n",
       "                                 ['original_language', 'status', 'all_genres',\n",
       "                                  'top_countries', 'available_in_english'])])</pre></div></div></div><div class=\"sk-parallel\"><div class=\"sk-parallel-item\"><div class=\"sk-item\"><div class=\"sk-label-container\"><div class=\"sk-label sk-toggleable\"><input class=\"sk-toggleable__control sk-hidden--visually\" id=\"62775efc-a036-4fc6-8126-da767fa88d2c\" type=\"checkbox\" ><label class=\"sk-toggleable__label\" for=\"62775efc-a036-4fc6-8126-da767fa88d2c\">num_transformer</label><div class=\"sk-toggleable__content\"><pre>['duration_min', 'budget', 'number_of_awards_won', 'number_of_nominations', 'has_collection', 'number_of_top_productions']</pre></div></div></div><div class=\"sk-serial\"><div class=\"sk-item\"><div class=\"sk-estimator sk-toggleable\"><input class=\"sk-toggleable__control sk-hidden--visually\" id=\"a008b3b0-eed8-49ec-b896-a68e0c6d3893\" type=\"checkbox\" ><label class=\"sk-toggleable__label\" for=\"a008b3b0-eed8-49ec-b896-a68e0c6d3893\">StandardScaler</label><div class=\"sk-toggleable__content\"><pre>StandardScaler()</pre></div></div></div></div></div></div><div class=\"sk-parallel-item\"><div class=\"sk-item\"><div class=\"sk-label-container\"><div class=\"sk-label sk-toggleable\"><input class=\"sk-toggleable__control sk-hidden--visually\" id=\"a6e997bc-01cf-4aff-bf30-4bc04608b2ef\" type=\"checkbox\" ><label class=\"sk-toggleable__label\" for=\"a6e997bc-01cf-4aff-bf30-4bc04608b2ef\">cat_transformer</label><div class=\"sk-toggleable__content\"><pre>['original_language', 'status', 'all_genres', 'top_countries', 'available_in_english']</pre></div></div></div><div class=\"sk-serial\"><div class=\"sk-item\"><div class=\"sk-estimator sk-toggleable\"><input class=\"sk-toggleable__control sk-hidden--visually\" id=\"b4b85ad9-6a4b-4ea2-a6d4-59d983229ce7\" type=\"checkbox\" ><label class=\"sk-toggleable__label\" for=\"b4b85ad9-6a4b-4ea2-a6d4-59d983229ce7\">OneHotEncoder</label><div class=\"sk-toggleable__content\"><pre>OneHotEncoder(handle_unknown='ignore')</pre></div></div></div></div></div></div></div></div></div></div>"
      ],
      "text/plain": [
       "ColumnTransformer(sparse_threshold=0,\n",
       "                  transformers=[('num_transformer', StandardScaler(),\n",
       "                                 ['duration_min', 'budget',\n",
       "                                  'number_of_awards_won',\n",
       "                                  'number_of_nominations', 'has_collection',\n",
       "                                  'number_of_top_productions']),\n",
       "                                ('cat_transformer',\n",
       "                                 OneHotEncoder(handle_unknown='ignore'),\n",
       "                                 ['original_language', 'status', 'all_genres',\n",
       "                                  'top_countries', 'available_in_english'])])"
      ]
     },
     "execution_count": 55,
     "metadata": {},
     "output_type": "execute_result"
    }
   ],
   "source": [
    "basic_preprocessing"
   ]
  },
  {
   "cell_type": "markdown",
   "metadata": {},
   "source": [
    "**📝 Encode the features and store the result in the variable `X_basic_preprocessing`.**"
   ]
  },
  {
   "cell_type": "code",
   "execution_count": 56,
   "metadata": {
    "ExecuteTime": {
     "end_time": "2021-06-30T08:08:46.667892Z",
     "start_time": "2021-06-30T08:08:46.505429Z"
    },
    "tags": [
     "challengify"
    ]
   },
   "outputs": [],
   "source": [
    "# YOUR CODE HERE\n",
    "basic_preprocessing.fit(X)\n",
    "X_basic_preprocessing = basic_preprocessing.transform(X)\n"
   ]
  },
  {
   "cell_type": "code",
   "execution_count": 61,
   "metadata": {
    "ExecuteTime": {
     "end_time": "2021-06-30T08:10:29.935064Z",
     "start_time": "2021-06-30T08:10:29.929587Z"
    }
   },
   "outputs": [
    {
     "data": {
      "text/plain": [
       "1118"
      ]
     },
     "execution_count": 61,
     "metadata": {},
     "output_type": "execute_result"
    }
   ],
   "source": [
    "pd.DataFrame(X_basic_preprocessing).shape[1]"
   ]
  },
  {
   "cell_type": "markdown",
   "metadata": {},
   "source": [
    "**❓ How many features has been generated by the preprocessing? What do you think about this number?**"
   ]
  },
  {
   "cell_type": "markdown",
   "metadata": {
    "tags": [
     "challengify"
    ]
   },
   "source": [
    "> YOUR ANSWER HERE\n",
    "'1118, big given that we don't even have the most complicated categorical features'\n"
   ]
  },
  {
   "cell_type": "markdown",
   "metadata": {},
   "source": [
    "#### Modeling pipeline\n",
    "\n",
    "Let's add a model to our pipe. With so many features one-hot-encoded, we **need a model which can act as a feature selector**\n",
    "\n",
    "👉 A linear model regularized with L1 penalty is a good starting point.\n",
    "\n",
    "\n",
    "**📝 Create a `basic_pipeline` which encapsulate the `basic_preprocessing` pipeline + a linear model with a L1 penalty**\n",
    "\n",
    "- store the resulting pipeline as `basic_pipeline`\n",
    "- don't fine-tune it\n",
    "\n",
    "\n",
    "<details>\n",
    "    <summary>Hints</summary>\n",
    "\n",
    "Choose your model from the list [here](https://scikit-learn.org/stable/modules/classes.html#module-sklearn.linear_model)\n",
    "\n",
    "</details>"
   ]
  },
  {
   "cell_type": "code",
   "execution_count": 63,
   "metadata": {
    "ExecuteTime": {
     "end_time": "2021-06-30T08:15:31.159760Z",
     "start_time": "2021-06-30T08:15:31.134675Z"
    },
    "tags": [
     "challengify"
    ]
   },
   "outputs": [
    {
     "data": {
      "text/html": [
       "<style>#sk-458383f6-8681-48c5-9c71-6aaade42e4f9 {color: black;background-color: white;}#sk-458383f6-8681-48c5-9c71-6aaade42e4f9 pre{padding: 0;}#sk-458383f6-8681-48c5-9c71-6aaade42e4f9 div.sk-toggleable {background-color: white;}#sk-458383f6-8681-48c5-9c71-6aaade42e4f9 label.sk-toggleable__label {cursor: pointer;display: block;width: 100%;margin-bottom: 0;padding: 0.2em 0.3em;box-sizing: border-box;text-align: center;}#sk-458383f6-8681-48c5-9c71-6aaade42e4f9 div.sk-toggleable__content {max-height: 0;max-width: 0;overflow: hidden;text-align: left;background-color: #f0f8ff;}#sk-458383f6-8681-48c5-9c71-6aaade42e4f9 div.sk-toggleable__content pre {margin: 0.2em;color: black;border-radius: 0.25em;background-color: #f0f8ff;}#sk-458383f6-8681-48c5-9c71-6aaade42e4f9 input.sk-toggleable__control:checked~div.sk-toggleable__content {max-height: 200px;max-width: 100%;overflow: auto;}#sk-458383f6-8681-48c5-9c71-6aaade42e4f9 div.sk-estimator input.sk-toggleable__control:checked~label.sk-toggleable__label {background-color: #d4ebff;}#sk-458383f6-8681-48c5-9c71-6aaade42e4f9 div.sk-label input.sk-toggleable__control:checked~label.sk-toggleable__label {background-color: #d4ebff;}#sk-458383f6-8681-48c5-9c71-6aaade42e4f9 input.sk-hidden--visually {border: 0;clip: rect(1px 1px 1px 1px);clip: rect(1px, 1px, 1px, 1px);height: 1px;margin: -1px;overflow: hidden;padding: 0;position: absolute;width: 1px;}#sk-458383f6-8681-48c5-9c71-6aaade42e4f9 div.sk-estimator {font-family: monospace;background-color: #f0f8ff;margin: 0.25em 0.25em;border: 1px dotted black;border-radius: 0.25em;box-sizing: border-box;}#sk-458383f6-8681-48c5-9c71-6aaade42e4f9 div.sk-estimator:hover {background-color: #d4ebff;}#sk-458383f6-8681-48c5-9c71-6aaade42e4f9 div.sk-parallel-item::after {content: \"\";width: 100%;border-bottom: 1px solid gray;flex-grow: 1;}#sk-458383f6-8681-48c5-9c71-6aaade42e4f9 div.sk-label:hover label.sk-toggleable__label {background-color: #d4ebff;}#sk-458383f6-8681-48c5-9c71-6aaade42e4f9 div.sk-serial::before {content: \"\";position: absolute;border-left: 1px solid gray;box-sizing: border-box;top: 2em;bottom: 0;left: 50%;}#sk-458383f6-8681-48c5-9c71-6aaade42e4f9 div.sk-serial {display: flex;flex-direction: column;align-items: center;background-color: white;}#sk-458383f6-8681-48c5-9c71-6aaade42e4f9 div.sk-item {z-index: 1;}#sk-458383f6-8681-48c5-9c71-6aaade42e4f9 div.sk-parallel {display: flex;align-items: stretch;justify-content: center;background-color: white;}#sk-458383f6-8681-48c5-9c71-6aaade42e4f9 div.sk-parallel-item {display: flex;flex-direction: column;position: relative;background-color: white;}#sk-458383f6-8681-48c5-9c71-6aaade42e4f9 div.sk-parallel-item:first-child::after {align-self: flex-end;width: 50%;}#sk-458383f6-8681-48c5-9c71-6aaade42e4f9 div.sk-parallel-item:last-child::after {align-self: flex-start;width: 50%;}#sk-458383f6-8681-48c5-9c71-6aaade42e4f9 div.sk-parallel-item:only-child::after {width: 0;}#sk-458383f6-8681-48c5-9c71-6aaade42e4f9 div.sk-dashed-wrapped {border: 1px dashed gray;margin: 0.2em;box-sizing: border-box;padding-bottom: 0.1em;background-color: white;position: relative;}#sk-458383f6-8681-48c5-9c71-6aaade42e4f9 div.sk-label label {font-family: monospace;font-weight: bold;background-color: white;display: inline-block;line-height: 1.2em;}#sk-458383f6-8681-48c5-9c71-6aaade42e4f9 div.sk-label-container {position: relative;z-index: 2;text-align: center;}#sk-458383f6-8681-48c5-9c71-6aaade42e4f9 div.sk-container {display: inline-block;position: relative;}</style><div id=\"sk-458383f6-8681-48c5-9c71-6aaade42e4f9\" class\"sk-top-container\"><div class=\"sk-container\"><div class=\"sk-item sk-dashed-wrapped\"><div class=\"sk-label-container\"><div class=\"sk-label sk-toggleable\"><input class=\"sk-toggleable__control sk-hidden--visually\" id=\"9a553988-122c-484d-b699-1ecbed188dcd\" type=\"checkbox\" ><label class=\"sk-toggleable__label\" for=\"9a553988-122c-484d-b699-1ecbed188dcd\">Pipeline</label><div class=\"sk-toggleable__content\"><pre>Pipeline(steps=[('preprocessing',\n",
       "                 ColumnTransformer(sparse_threshold=0,\n",
       "                                   transformers=[('num_transformer',\n",
       "                                                  StandardScaler(),\n",
       "                                                  ['duration_min', 'budget',\n",
       "                                                   'number_of_awards_won',\n",
       "                                                   'number_of_nominations',\n",
       "                                                   'has_collection',\n",
       "                                                   'number_of_top_productions']),\n",
       "                                                 ('cat_transformer',\n",
       "                                                  OneHotEncoder(handle_unknown='ignore'),\n",
       "                                                  ['original_language',\n",
       "                                                   'status', 'all_genres',\n",
       "                                                   'top_countries',\n",
       "                                                   'available_in_english'])])),\n",
       "                ('linear_regression', Lasso())])</pre></div></div></div><div class=\"sk-serial\"><div class=\"sk-item sk-dashed-wrapped\"><div class=\"sk-label-container\"><div class=\"sk-label sk-toggleable\"><input class=\"sk-toggleable__control sk-hidden--visually\" id=\"67b009a0-4a7a-4f86-8fa9-1b116e8832a8\" type=\"checkbox\" ><label class=\"sk-toggleable__label\" for=\"67b009a0-4a7a-4f86-8fa9-1b116e8832a8\">preprocessing: ColumnTransformer</label><div class=\"sk-toggleable__content\"><pre>ColumnTransformer(sparse_threshold=0,\n",
       "                  transformers=[('num_transformer', StandardScaler(),\n",
       "                                 ['duration_min', 'budget',\n",
       "                                  'number_of_awards_won',\n",
       "                                  'number_of_nominations', 'has_collection',\n",
       "                                  'number_of_top_productions']),\n",
       "                                ('cat_transformer',\n",
       "                                 OneHotEncoder(handle_unknown='ignore'),\n",
       "                                 ['original_language', 'status', 'all_genres',\n",
       "                                  'top_countries', 'available_in_english'])])</pre></div></div></div><div class=\"sk-parallel\"><div class=\"sk-parallel-item\"><div class=\"sk-item\"><div class=\"sk-label-container\"><div class=\"sk-label sk-toggleable\"><input class=\"sk-toggleable__control sk-hidden--visually\" id=\"88388a45-bbdc-41ea-ba68-dd3686273a44\" type=\"checkbox\" ><label class=\"sk-toggleable__label\" for=\"88388a45-bbdc-41ea-ba68-dd3686273a44\">num_transformer</label><div class=\"sk-toggleable__content\"><pre>['duration_min', 'budget', 'number_of_awards_won', 'number_of_nominations', 'has_collection', 'number_of_top_productions']</pre></div></div></div><div class=\"sk-serial\"><div class=\"sk-item\"><div class=\"sk-estimator sk-toggleable\"><input class=\"sk-toggleable__control sk-hidden--visually\" id=\"dce5b09e-9ad1-4f4c-b550-7e605b034580\" type=\"checkbox\" ><label class=\"sk-toggleable__label\" for=\"dce5b09e-9ad1-4f4c-b550-7e605b034580\">StandardScaler</label><div class=\"sk-toggleable__content\"><pre>StandardScaler()</pre></div></div></div></div></div></div><div class=\"sk-parallel-item\"><div class=\"sk-item\"><div class=\"sk-label-container\"><div class=\"sk-label sk-toggleable\"><input class=\"sk-toggleable__control sk-hidden--visually\" id=\"29bffdb6-4121-42c9-b857-0bb00a7605b8\" type=\"checkbox\" ><label class=\"sk-toggleable__label\" for=\"29bffdb6-4121-42c9-b857-0bb00a7605b8\">cat_transformer</label><div class=\"sk-toggleable__content\"><pre>['original_language', 'status', 'all_genres', 'top_countries', 'available_in_english']</pre></div></div></div><div class=\"sk-serial\"><div class=\"sk-item\"><div class=\"sk-estimator sk-toggleable\"><input class=\"sk-toggleable__control sk-hidden--visually\" id=\"8c1f2369-3e5c-4293-bc41-65d67457da70\" type=\"checkbox\" ><label class=\"sk-toggleable__label\" for=\"8c1f2369-3e5c-4293-bc41-65d67457da70\">OneHotEncoder</label><div class=\"sk-toggleable__content\"><pre>OneHotEncoder(handle_unknown='ignore')</pre></div></div></div></div></div></div></div></div><div class=\"sk-item\"><div class=\"sk-estimator sk-toggleable\"><input class=\"sk-toggleable__control sk-hidden--visually\" id=\"796d5545-23ee-4443-a51e-c5cfb5425259\" type=\"checkbox\" ><label class=\"sk-toggleable__label\" for=\"796d5545-23ee-4443-a51e-c5cfb5425259\">Lasso</label><div class=\"sk-toggleable__content\"><pre>Lasso()</pre></div></div></div></div></div></div></div>"
      ],
      "text/plain": [
       "Pipeline(steps=[('preprocessing',\n",
       "                 ColumnTransformer(sparse_threshold=0,\n",
       "                                   transformers=[('num_transformer',\n",
       "                                                  StandardScaler(),\n",
       "                                                  ['duration_min', 'budget',\n",
       "                                                   'number_of_awards_won',\n",
       "                                                   'number_of_nominations',\n",
       "                                                   'has_collection',\n",
       "                                                   'number_of_top_productions']),\n",
       "                                                 ('cat_transformer',\n",
       "                                                  OneHotEncoder(handle_unknown='ignore'),\n",
       "                                                  ['original_language',\n",
       "                                                   'status', 'all_genres',\n",
       "                                                   'top_countries',\n",
       "                                                   'available_in_english'])])),\n",
       "                ('linear_regression', Lasso())])"
      ]
     },
     "execution_count": 63,
     "metadata": {},
     "output_type": "execute_result"
    }
   ],
   "source": [
    "from sklearn.linear_model import Lasso\n",
    "from sklearn.pipeline import Pipeline\n",
    "\n",
    "basic_pipeline = Pipeline([\n",
    "    ('preprocessing', basic_preprocessing),\n",
    "    ('linear_regression', Lasso())])\n",
    "basic_pipeline"
   ]
  },
  {
   "cell_type": "markdown",
   "metadata": {},
   "source": [
    "### Cross-validated baseline\n",
    "\n",
    "**📝 Perform a cross-validated evaluation of your baseline model using the metric you defined above. Store the results of this evaluation as an `array` of floating scores in the `basic_scores` variable.**"
   ]
  },
  {
   "cell_type": "code",
   "execution_count": 67,
   "metadata": {
    "ExecuteTime": {
     "end_time": "2021-06-30T08:24:31.572758Z",
     "start_time": "2021-06-30T08:24:30.435922Z"
    },
    "scrolled": false,
    "tags": [
     "challengify"
    ]
   },
   "outputs": [],
   "source": [
    "from sklearn.model_selection import cross_val_score\n",
    "\n",
    "basic_scores = cross_val_score(basic_pipeline, X, y, cv=5, scoring=scoring)"
   ]
  },
  {
   "cell_type": "markdown",
   "metadata": {},
   "source": [
    "### 🧪 Save your results\n",
    "\n",
    "Run the following cell to save your results"
   ]
  },
  {
   "cell_type": "code",
   "execution_count": 68,
   "metadata": {
    "ExecuteTime": {
     "end_time": "2021-06-30T08:24:34.326989Z",
     "start_time": "2021-06-30T08:24:34.320526Z"
    }
   },
   "outputs": [],
   "source": [
    "ChallengeResult(\n",
    "    'baseline',\n",
    "    metric=scoring,\n",
    "    features=[categorical,numerical],\n",
    "    preproc=basic_preprocessing,\n",
    "    preproc_shape=X_basic_preprocessing.shape,\n",
    "    pipe=basic_pipeline,\n",
    "    scores=basic_scores\n",
    ").write()"
   ]
  },
  {
   "cell_type": "markdown",
   "metadata": {},
   "source": [
    "## Feature engineering"
   ]
  },
  {
   "cell_type": "markdown",
   "metadata": {},
   "source": [
    "### Time Features\n",
    "\n",
    "\n",
    "👉 Let's try to improve performance using the feature `release_date`, and especially its `month` and `year`.\n",
    "\n",
    "ℹ️ If you want to skip this section, you can move directly to the next one: _Advanced categorical features_."
   ]
  },
  {
   "cell_type": "markdown",
   "metadata": {},
   "source": [
    "**📝 Complete the custom transformer `TimeFeaturesExtractor` below**\n",
    "\n",
    "Running\n",
    "```python\n",
    "TimeFeaturesExtractor().fit_transform(X[['release_date']])\n",
    "``` \n",
    "should return something like\n",
    "\n",
    "|    |   month |   year |\n",
    "|---:|--------:|-------:|\n",
    "|  0 |       2 |   2015 |\n",
    "|  1 |       8 |   2004 |\n",
    "|  2 |      10 |   2014 |\n",
    "|  3 |       3 |   2012 |\n",
    "|  4 |       8 |   2012 |\n"
   ]
  },
  {
   "cell_type": "code",
   "execution_count": 77,
   "metadata": {
    "ExecuteTime": {
     "end_time": "2021-06-30T08:41:50.961545Z",
     "start_time": "2021-06-30T08:41:50.954868Z"
    }
   },
   "outputs": [],
   "source": [
    "release_date =pd.to_datetime(X['release_date'])"
   ]
  },
  {
   "cell_type": "code",
   "execution_count": 95,
   "metadata": {
    "ExecuteTime": {
     "end_time": "2021-06-30T08:49:21.470818Z",
     "start_time": "2021-06-30T08:49:21.465706Z"
    }
   },
   "outputs": [],
   "source": [
    "from sklearn.base import BaseEstimator, TransformerMixin\n",
    "\n",
    "class TimeFeaturesExtractor(BaseEstimator, TransformerMixin):\n",
    "    \"\"\"Extract the 2 time features from a date\"\"\"\n",
    "    \n",
    "    def fit(self, X, y=None):\n",
    "        return self\n",
    "    \n",
    "    def transform(self, X, y=None):\n",
    "        \"\"\"\n",
    "        Params:\n",
    "        X: DataFrame\n",
    "        y: Series\n",
    "        \n",
    "        Returns a DataFrame with 2 columns containing the time features as integers extracted from the release_date.\n",
    "        \"\"\"\n",
    "        release_date = pd.to_datetime(X['release_date'])\n",
    "        df = pd.DataFrame(pd.DatetimeIndex(release_date).month).rename(columns={'release_date':'month'})\n",
    "        df['year'] = pd.DatetimeIndex(release_date).year\n",
    "        return df"
   ]
  },
  {
   "cell_type": "code",
   "execution_count": 97,
   "metadata": {
    "ExecuteTime": {
     "end_time": "2021-06-30T08:49:53.133427Z",
     "start_time": "2021-06-30T08:49:53.109991Z"
    }
   },
   "outputs": [
    {
     "data": {
      "text/html": [
       "<div>\n",
       "<style scoped>\n",
       "    .dataframe tbody tr th:only-of-type {\n",
       "        vertical-align: middle;\n",
       "    }\n",
       "\n",
       "    .dataframe tbody tr th {\n",
       "        vertical-align: top;\n",
       "    }\n",
       "\n",
       "    .dataframe thead th {\n",
       "        text-align: right;\n",
       "    }\n",
       "</style>\n",
       "<table border=\"1\" class=\"dataframe\">\n",
       "  <thead>\n",
       "    <tr style=\"text-align: right;\">\n",
       "      <th></th>\n",
       "      <th>month</th>\n",
       "      <th>year</th>\n",
       "    </tr>\n",
       "  </thead>\n",
       "  <tbody>\n",
       "    <tr>\n",
       "      <th>0</th>\n",
       "      <td>2</td>\n",
       "      <td>2015</td>\n",
       "    </tr>\n",
       "    <tr>\n",
       "      <th>1</th>\n",
       "      <td>8</td>\n",
       "      <td>2004</td>\n",
       "    </tr>\n",
       "    <tr>\n",
       "      <th>2</th>\n",
       "      <td>10</td>\n",
       "      <td>2014</td>\n",
       "    </tr>\n",
       "    <tr>\n",
       "      <th>3</th>\n",
       "      <td>3</td>\n",
       "      <td>2012</td>\n",
       "    </tr>\n",
       "    <tr>\n",
       "      <th>4</th>\n",
       "      <td>8</td>\n",
       "      <td>2012</td>\n",
       "    </tr>\n",
       "  </tbody>\n",
       "</table>\n",
       "</div>"
      ],
      "text/plain": [
       "   month  year\n",
       "0      2  2015\n",
       "1      8  2004\n",
       "2     10  2014\n",
       "3      3  2012\n",
       "4      8  2012"
      ]
     },
     "execution_count": 97,
     "metadata": {},
     "output_type": "execute_result"
    }
   ],
   "source": [
    "# Try your transformer and save your new features here\n",
    "X_time_features = TimeFeaturesExtractor().fit_transform(X[['release_date']])\n",
    "X_time_features.head()"
   ]
  },
  {
   "cell_type": "markdown",
   "metadata": {},
   "source": [
    "We still have 2 problems to solve\n",
    "- `month` is cyclical: 12 should be a close to 1 as to 11, right? \n",
    "- `year` is not scaled\n",
    "\n",
    "**📝 Build a final custom transformer `CyclicalEncoder` so that**\n",
    "\n",
    "Running\n",
    "```python\n",
    "CyclicalEncoder().fit_transform(X_time_features)\n",
    "``` \n",
    "should return something like this\n",
    "\n",
    "|    |    month_cos |   month_sin |      year |\n",
    "|---:|-------------:|------------:|----------:|\n",
    "|  0 |  0.5         |    0.866025 | 0.0466039 |\n",
    "|  1 | -0.5         |   -0.866025 | 0.0411502 |\n",
    "|  2 |  0.5         |   -0.866025 | 0.0461081 |\n",
    "|  3 |  6.12323e-17 |    1        | 0.0451165 |\n",
    "|  4 | -0.5         |   -0.866025 | 0.0451165 |\n",
    "\n",
    "With the cyclical encoding is done as below\n",
    "- `month_cos = 2 * math.pi / 12 * X[['month']] `\n",
    "- `month_sin = 2 * math.pi / 12 * X[['month']] `\n",
    "\n",
    "And the `year` begin min-max scaled"
   ]
  },
  {
   "cell_type": "code",
   "execution_count": null,
   "metadata": {
    "ExecuteTime": {
     "end_time": "2021-06-29T17:29:13.884690Z",
     "start_time": "2021-06-29T17:29:13.879274Z"
    }
   },
   "outputs": [],
   "source": [
    "from sklearn.base import BaseEstimator, TransformerMixin\n",
    "import math\n",
    "\n",
    "class CyclicalEncoder(BaseEstimator, TransformerMixin):\n",
    "    \"\"\"\n",
    "    Encode a cyclical feature\n",
    "    \"\"\"\n",
    "    \n",
    "    def __init__(self):\n",
    "        pass\n",
    "\n",
    "    def fit(self, X, y=None):\n",
    "        \"\"\"\n",
    "        Compute here what you need for the transform phase and store it as instance variable\n",
    "        \"\"\"\n",
    "        pass  # YOUR CODE HERE\n",
    "\n",
    "    def transform(self, X, y=None):\n",
    "        \"\"\"\n",
    "        Compute and returns the final DataFrame\n",
    "        \"\"\"\n",
    "        pass  # YOUR CODE HERE"
   ]
  },
  {
   "cell_type": "code",
   "execution_count": null,
   "metadata": {
    "ExecuteTime": {
     "end_time": "2021-06-29T17:29:13.899004Z",
     "start_time": "2021-06-29T17:29:13.886894Z"
    }
   },
   "outputs": [],
   "source": [
    "# Try your transformer and save your new features here\n",
    "X_time_cyclical = CyclicalEncoder().fit_transform(X_time_features)\n",
    "X_time_cyclical.head()"
   ]
  },
  {
   "cell_type": "code",
   "execution_count": null,
   "metadata": {
    "ExecuteTime": {
     "end_time": "2021-06-29T17:29:14.052971Z",
     "start_time": "2021-06-29T17:29:13.900696Z"
    }
   },
   "outputs": [],
   "source": [
    "# Check that this form a circle with 12 points\n",
    "plt.scatter(X_time_cyclical['month_cos'],\n",
    "            X_time_cyclical['month_sin'])\n",
    "plt.xlabel(\"month_cos\"); plt.ylabel(\"month_sin\");"
   ]
  },
  {
   "cell_type": "markdown",
   "metadata": {},
   "source": [
    "**📝 Enhance your `basic_pipeline` with a new preprocessing including both `TimeFeaturesExtractor` and `CyclicalFeatureExtractor`:**\n",
    "\n",
    "- Just use `TimeFeatureExtractor` if you haven't had time to do the `Cyclical` one\n",
    "- Store this new pipeline as `time_pipeline`\n",
    "- Keep same estimator for now"
   ]
  },
  {
   "cell_type": "code",
   "execution_count": 98,
   "metadata": {
    "ExecuteTime": {
     "end_time": "2021-06-30T08:56:22.878197Z",
     "start_time": "2021-06-30T08:56:22.867329Z"
    },
    "tags": [
     "challengify"
    ]
   },
   "outputs": [],
   "source": [
    "# YOUR CODE HERE\n",
    "basic_preprocessing_2 = ColumnTransformer([\n",
    "    ('num_transformer', basic_num_transformer, numerical),\n",
    "    ('cat_transformer', basic_cat_transformer, categorical),\n",
    "    ('time_transformer', TimeFeaturesExtractor(), ['release_date'] )],sparse_threshold=0)"
   ]
  },
  {
   "cell_type": "code",
   "execution_count": 99,
   "metadata": {
    "ExecuteTime": {
     "end_time": "2021-06-30T08:57:09.330756Z",
     "start_time": "2021-06-30T08:57:09.269211Z"
    }
   },
   "outputs": [
    {
     "data": {
      "text/html": [
       "<style>#sk-481f90fb-6474-4f95-bc82-5be6915e1184 {color: black;background-color: white;}#sk-481f90fb-6474-4f95-bc82-5be6915e1184 pre{padding: 0;}#sk-481f90fb-6474-4f95-bc82-5be6915e1184 div.sk-toggleable {background-color: white;}#sk-481f90fb-6474-4f95-bc82-5be6915e1184 label.sk-toggleable__label {cursor: pointer;display: block;width: 100%;margin-bottom: 0;padding: 0.2em 0.3em;box-sizing: border-box;text-align: center;}#sk-481f90fb-6474-4f95-bc82-5be6915e1184 div.sk-toggleable__content {max-height: 0;max-width: 0;overflow: hidden;text-align: left;background-color: #f0f8ff;}#sk-481f90fb-6474-4f95-bc82-5be6915e1184 div.sk-toggleable__content pre {margin: 0.2em;color: black;border-radius: 0.25em;background-color: #f0f8ff;}#sk-481f90fb-6474-4f95-bc82-5be6915e1184 input.sk-toggleable__control:checked~div.sk-toggleable__content {max-height: 200px;max-width: 100%;overflow: auto;}#sk-481f90fb-6474-4f95-bc82-5be6915e1184 div.sk-estimator input.sk-toggleable__control:checked~label.sk-toggleable__label {background-color: #d4ebff;}#sk-481f90fb-6474-4f95-bc82-5be6915e1184 div.sk-label input.sk-toggleable__control:checked~label.sk-toggleable__label {background-color: #d4ebff;}#sk-481f90fb-6474-4f95-bc82-5be6915e1184 input.sk-hidden--visually {border: 0;clip: rect(1px 1px 1px 1px);clip: rect(1px, 1px, 1px, 1px);height: 1px;margin: -1px;overflow: hidden;padding: 0;position: absolute;width: 1px;}#sk-481f90fb-6474-4f95-bc82-5be6915e1184 div.sk-estimator {font-family: monospace;background-color: #f0f8ff;margin: 0.25em 0.25em;border: 1px dotted black;border-radius: 0.25em;box-sizing: border-box;}#sk-481f90fb-6474-4f95-bc82-5be6915e1184 div.sk-estimator:hover {background-color: #d4ebff;}#sk-481f90fb-6474-4f95-bc82-5be6915e1184 div.sk-parallel-item::after {content: \"\";width: 100%;border-bottom: 1px solid gray;flex-grow: 1;}#sk-481f90fb-6474-4f95-bc82-5be6915e1184 div.sk-label:hover label.sk-toggleable__label {background-color: #d4ebff;}#sk-481f90fb-6474-4f95-bc82-5be6915e1184 div.sk-serial::before {content: \"\";position: absolute;border-left: 1px solid gray;box-sizing: border-box;top: 2em;bottom: 0;left: 50%;}#sk-481f90fb-6474-4f95-bc82-5be6915e1184 div.sk-serial {display: flex;flex-direction: column;align-items: center;background-color: white;}#sk-481f90fb-6474-4f95-bc82-5be6915e1184 div.sk-item {z-index: 1;}#sk-481f90fb-6474-4f95-bc82-5be6915e1184 div.sk-parallel {display: flex;align-items: stretch;justify-content: center;background-color: white;}#sk-481f90fb-6474-4f95-bc82-5be6915e1184 div.sk-parallel-item {display: flex;flex-direction: column;position: relative;background-color: white;}#sk-481f90fb-6474-4f95-bc82-5be6915e1184 div.sk-parallel-item:first-child::after {align-self: flex-end;width: 50%;}#sk-481f90fb-6474-4f95-bc82-5be6915e1184 div.sk-parallel-item:last-child::after {align-self: flex-start;width: 50%;}#sk-481f90fb-6474-4f95-bc82-5be6915e1184 div.sk-parallel-item:only-child::after {width: 0;}#sk-481f90fb-6474-4f95-bc82-5be6915e1184 div.sk-dashed-wrapped {border: 1px dashed gray;margin: 0.2em;box-sizing: border-box;padding-bottom: 0.1em;background-color: white;position: relative;}#sk-481f90fb-6474-4f95-bc82-5be6915e1184 div.sk-label label {font-family: monospace;font-weight: bold;background-color: white;display: inline-block;line-height: 1.2em;}#sk-481f90fb-6474-4f95-bc82-5be6915e1184 div.sk-label-container {position: relative;z-index: 2;text-align: center;}#sk-481f90fb-6474-4f95-bc82-5be6915e1184 div.sk-container {display: inline-block;position: relative;}</style><div id=\"sk-481f90fb-6474-4f95-bc82-5be6915e1184\" class\"sk-top-container\"><div class=\"sk-container\"><div class=\"sk-item sk-dashed-wrapped\"><div class=\"sk-label-container\"><div class=\"sk-label sk-toggleable\"><input class=\"sk-toggleable__control sk-hidden--visually\" id=\"04c22c8e-5ad7-4c0d-8559-a4e04d3b7801\" type=\"checkbox\" ><label class=\"sk-toggleable__label\" for=\"04c22c8e-5ad7-4c0d-8559-a4e04d3b7801\">Pipeline</label><div class=\"sk-toggleable__content\"><pre>Pipeline(steps=[('preprocessing',\n",
       "                 ColumnTransformer(sparse_threshold=0,\n",
       "                                   transformers=[('num_transformer',\n",
       "                                                  StandardScaler(),\n",
       "                                                  ['duration_min', 'budget',\n",
       "                                                   'number_of_awards_won',\n",
       "                                                   'number_of_nominations',\n",
       "                                                   'has_collection',\n",
       "                                                   'number_of_top_productions']),\n",
       "                                                 ('cat_transformer',\n",
       "                                                  OneHotEncoder(handle_unknown='ignore'),\n",
       "                                                  ['original_language',\n",
       "                                                   'status', 'all_genres',\n",
       "                                                   'top_countries',\n",
       "                                                   'available_in_english']),\n",
       "                                                 ('time_transformer',\n",
       "                                                  TimeFeaturesExtractor(),\n",
       "                                                  ['release_date'])])),\n",
       "                ('linear_regression', Lasso())])</pre></div></div></div><div class=\"sk-serial\"><div class=\"sk-item sk-dashed-wrapped\"><div class=\"sk-label-container\"><div class=\"sk-label sk-toggleable\"><input class=\"sk-toggleable__control sk-hidden--visually\" id=\"254199fc-0a33-454a-9ac2-66d007e0fa9e\" type=\"checkbox\" ><label class=\"sk-toggleable__label\" for=\"254199fc-0a33-454a-9ac2-66d007e0fa9e\">preprocessing: ColumnTransformer</label><div class=\"sk-toggleable__content\"><pre>ColumnTransformer(sparse_threshold=0,\n",
       "                  transformers=[('num_transformer', StandardScaler(),\n",
       "                                 ['duration_min', 'budget',\n",
       "                                  'number_of_awards_won',\n",
       "                                  'number_of_nominations', 'has_collection',\n",
       "                                  'number_of_top_productions']),\n",
       "                                ('cat_transformer',\n",
       "                                 OneHotEncoder(handle_unknown='ignore'),\n",
       "                                 ['original_language', 'status', 'all_genres',\n",
       "                                  'top_countries', 'available_in_english']),\n",
       "                                ('time_transformer', TimeFeaturesExtractor(),\n",
       "                                 ['release_date'])])</pre></div></div></div><div class=\"sk-parallel\"><div class=\"sk-parallel-item\"><div class=\"sk-item\"><div class=\"sk-label-container\"><div class=\"sk-label sk-toggleable\"><input class=\"sk-toggleable__control sk-hidden--visually\" id=\"0306e3cf-d0a9-41af-820e-1424a64972ee\" type=\"checkbox\" ><label class=\"sk-toggleable__label\" for=\"0306e3cf-d0a9-41af-820e-1424a64972ee\">num_transformer</label><div class=\"sk-toggleable__content\"><pre>['duration_min', 'budget', 'number_of_awards_won', 'number_of_nominations', 'has_collection', 'number_of_top_productions']</pre></div></div></div><div class=\"sk-serial\"><div class=\"sk-item\"><div class=\"sk-estimator sk-toggleable\"><input class=\"sk-toggleable__control sk-hidden--visually\" id=\"161d0401-5de8-4e9b-956e-e86774e9de7b\" type=\"checkbox\" ><label class=\"sk-toggleable__label\" for=\"161d0401-5de8-4e9b-956e-e86774e9de7b\">StandardScaler</label><div class=\"sk-toggleable__content\"><pre>StandardScaler()</pre></div></div></div></div></div></div><div class=\"sk-parallel-item\"><div class=\"sk-item\"><div class=\"sk-label-container\"><div class=\"sk-label sk-toggleable\"><input class=\"sk-toggleable__control sk-hidden--visually\" id=\"fa54613f-ea01-4b7d-ac73-8bdf551c2017\" type=\"checkbox\" ><label class=\"sk-toggleable__label\" for=\"fa54613f-ea01-4b7d-ac73-8bdf551c2017\">cat_transformer</label><div class=\"sk-toggleable__content\"><pre>['original_language', 'status', 'all_genres', 'top_countries', 'available_in_english']</pre></div></div></div><div class=\"sk-serial\"><div class=\"sk-item\"><div class=\"sk-estimator sk-toggleable\"><input class=\"sk-toggleable__control sk-hidden--visually\" id=\"cd0334b6-01cf-4c42-b377-c6b77fc14478\" type=\"checkbox\" ><label class=\"sk-toggleable__label\" for=\"cd0334b6-01cf-4c42-b377-c6b77fc14478\">OneHotEncoder</label><div class=\"sk-toggleable__content\"><pre>OneHotEncoder(handle_unknown='ignore')</pre></div></div></div></div></div></div><div class=\"sk-parallel-item\"><div class=\"sk-item\"><div class=\"sk-label-container\"><div class=\"sk-label sk-toggleable\"><input class=\"sk-toggleable__control sk-hidden--visually\" id=\"8c0d89ca-b327-4307-b844-c609fee4705d\" type=\"checkbox\" ><label class=\"sk-toggleable__label\" for=\"8c0d89ca-b327-4307-b844-c609fee4705d\">time_transformer</label><div class=\"sk-toggleable__content\"><pre>['release_date']</pre></div></div></div><div class=\"sk-serial\"><div class=\"sk-item\"><div class=\"sk-estimator sk-toggleable\"><input class=\"sk-toggleable__control sk-hidden--visually\" id=\"ffb5c02a-6184-42ea-b1f8-be4b1ae6d50b\" type=\"checkbox\" ><label class=\"sk-toggleable__label\" for=\"ffb5c02a-6184-42ea-b1f8-be4b1ae6d50b\">TimeFeaturesExtractor</label><div class=\"sk-toggleable__content\"><pre>TimeFeaturesExtractor()</pre></div></div></div></div></div></div></div></div><div class=\"sk-item\"><div class=\"sk-estimator sk-toggleable\"><input class=\"sk-toggleable__control sk-hidden--visually\" id=\"3ca27aa8-c427-4d3e-a435-2062280ab8d8\" type=\"checkbox\" ><label class=\"sk-toggleable__label\" for=\"3ca27aa8-c427-4d3e-a435-2062280ab8d8\">Lasso</label><div class=\"sk-toggleable__content\"><pre>Lasso()</pre></div></div></div></div></div></div></div>"
      ],
      "text/plain": [
       "Pipeline(steps=[('preprocessing',\n",
       "                 ColumnTransformer(sparse_threshold=0,\n",
       "                                   transformers=[('num_transformer',\n",
       "                                                  StandardScaler(),\n",
       "                                                  ['duration_min', 'budget',\n",
       "                                                   'number_of_awards_won',\n",
       "                                                   'number_of_nominations',\n",
       "                                                   'has_collection',\n",
       "                                                   'number_of_top_productions']),\n",
       "                                                 ('cat_transformer',\n",
       "                                                  OneHotEncoder(handle_unknown='ignore'),\n",
       "                                                  ['original_language',\n",
       "                                                   'status', 'all_genres',\n",
       "                                                   'top_countries',\n",
       "                                                   'available_in_english']),\n",
       "                                                 ('time_transformer',\n",
       "                                                  TimeFeaturesExtractor(),\n",
       "                                                  ['release_date'])])),\n",
       "                ('linear_regression', Lasso())])"
      ]
     },
     "execution_count": 99,
     "metadata": {},
     "output_type": "execute_result"
    }
   ],
   "source": [
    "time_pipeline = Pipeline([\n",
    "    ('preprocessing', basic_preprocessing_2),\n",
    "    ('linear_regression', Lasso())])\n",
    "time_pipeline"
   ]
  },
  {
   "cell_type": "code",
   "execution_count": 100,
   "metadata": {
    "ExecuteTime": {
     "end_time": "2021-06-30T08:57:47.644724Z",
     "start_time": "2021-06-30T08:57:46.353161Z"
    }
   },
   "outputs": [
    {
     "data": {
      "text/plain": [
       "array([-0.30377367, -0.32095026, -0.3186737 , -0.30041843, -0.33242364])"
      ]
     },
     "execution_count": 100,
     "metadata": {},
     "output_type": "execute_result"
    }
   ],
   "source": [
    "cross_val_score(time_pipeline, X, y, cv=5, scoring=scoring)"
   ]
  },
  {
   "cell_type": "markdown",
   "metadata": {},
   "source": [
    "### Advanced categorical encoder to reduce the number of features\n",
    "\n",
    "ℹ️ Most of it has already been coded for you and it shouldn't take long. Still if you want to skip it and move to the next section: _Model Tuning_"
   ]
  },
  {
   "cell_type": "markdown",
   "metadata": {},
   "source": [
    "👉 We need to reduce the number of features to one-hot-encode, which arise from the high cardinality of `all_genres` and `top_countries`"
   ]
  },
  {
   "cell_type": "code",
   "execution_count": 101,
   "metadata": {
    "ExecuteTime": {
     "end_time": "2021-06-30T08:58:35.831702Z",
     "start_time": "2021-06-30T08:58:35.816563Z"
    }
   },
   "outputs": [
    {
     "data": {
      "text/plain": [
       "all_genres       745\n",
       "top_countries    320\n",
       "dtype: int64"
      ]
     },
     "execution_count": 101,
     "metadata": {},
     "output_type": "execute_result"
    }
   ],
   "source": [
    "X[['all_genres', 'top_countries']].nunique()"
   ]
  },
  {
   "cell_type": "markdown",
   "metadata": {},
   "source": [
    "👇 Both share a common pattern: there can be more than 1 country and more than 1 genre per movie."
   ]
  },
  {
   "cell_type": "code",
   "execution_count": 102,
   "metadata": {
    "ExecuteTime": {
     "end_time": "2021-06-30T08:58:47.328090Z",
     "start_time": "2021-06-30T08:58:47.316154Z"
    }
   },
   "outputs": [
    {
     "data": {
      "text/html": [
       "<div>\n",
       "<style scoped>\n",
       "    .dataframe tbody tr th:only-of-type {\n",
       "        vertical-align: middle;\n",
       "    }\n",
       "\n",
       "    .dataframe tbody tr th {\n",
       "        vertical-align: top;\n",
       "    }\n",
       "\n",
       "    .dataframe thead th {\n",
       "        text-align: right;\n",
       "    }\n",
       "</style>\n",
       "<table border=\"1\" class=\"dataframe\">\n",
       "  <thead>\n",
       "    <tr style=\"text-align: right;\">\n",
       "      <th></th>\n",
       "      <th>all_genres</th>\n",
       "      <th>top_countries</th>\n",
       "    </tr>\n",
       "  </thead>\n",
       "  <tbody>\n",
       "    <tr>\n",
       "      <th>6459</th>\n",
       "      <td>Thriller</td>\n",
       "      <td>France, United States of America</td>\n",
       "    </tr>\n",
       "    <tr>\n",
       "      <th>6460</th>\n",
       "      <td>Action, Adventure, Comedy, Thriller</td>\n",
       "      <td>United States of America</td>\n",
       "    </tr>\n",
       "    <tr>\n",
       "      <th>6461</th>\n",
       "      <td>Drama</td>\n",
       "      <td>United States of America</td>\n",
       "    </tr>\n",
       "    <tr>\n",
       "      <th>6462</th>\n",
       "      <td>Horror, Thriller</td>\n",
       "      <td>United States of America</td>\n",
       "    </tr>\n",
       "    <tr>\n",
       "      <th>6463</th>\n",
       "      <td>Drama</td>\n",
       "      <td>France</td>\n",
       "    </tr>\n",
       "  </tbody>\n",
       "</table>\n",
       "</div>"
      ],
      "text/plain": [
       "                               all_genres                     top_countries\n",
       "6459                             Thriller  France, United States of America\n",
       "6460  Action, Adventure, Comedy, Thriller          United States of America\n",
       "6461                                Drama          United States of America\n",
       "6462                     Horror, Thriller          United States of America\n",
       "6463                                Drama                            France"
      ]
     },
     "execution_count": 102,
     "metadata": {},
     "output_type": "execute_result"
    }
   ],
   "source": [
    "X[['all_genres', 'top_countries']].tail()"
   ]
  },
  {
   "cell_type": "markdown",
   "metadata": {},
   "source": [
    "👉 Run the cell below where we have coded for you a custom transformer `CustomGenreAndCountryEncoder` which: \n",
    "- Select the 10 most frequent genres and the 5 most frequent countries\n",
    "- Encode `all_genres` into 10 One Hot Encoded features\n",
    "- Encode `top_countries` into 5 One Hot Encoded features"
   ]
  },
  {
   "cell_type": "code",
   "execution_count": 103,
   "metadata": {
    "ExecuteTime": {
     "end_time": "2021-06-30T08:59:30.556003Z",
     "start_time": "2021-06-30T08:59:30.544057Z"
    }
   },
   "outputs": [],
   "source": [
    "from collections import Counter\n",
    "from sklearn.base import BaseEstimator, TransformerMixin\n",
    "\n",
    "class CustomGenreAndCountryEncoder(BaseEstimator, TransformerMixin):\n",
    "    \"\"\"\n",
    "    Encoding the all_genres and top_companies features which are multi-categorical :\n",
    "    a movie has several possible genres and countries of productions!\n",
    "    \"\"\"\n",
    "\n",
    "    def __init__(self):\n",
    "        pass\n",
    "\n",
    "    def fit(self, X, y=None):\n",
    "        \"\"\"\n",
    "        compute top genres and top countries of productions from all_genres and top_countries features\n",
    "        \"\"\"\n",
    "\n",
    "        # compute top 10 genres       \n",
    "        list_of_genres = list(X['all_genres'].apply(lambda x: [i.strip() for i in x.split(\",\")] if x != [''] else []).values)\n",
    "        top_genres = [m[0] for m in Counter([i for j in list_of_genres for i in j]).most_common(10)]\n",
    "\n",
    "        # save top_genres in dedicated instance variable\n",
    "        self.top_genres = top_genres\n",
    "        \n",
    "         # compute top 5 countries       \n",
    "        list_of_countries = list(X['top_countries'].apply(lambda x: [i.strip() for i in x.split(\",\")] if x != [''] else []).values)\n",
    "        top_countries = [m[0] for m in Counter([i for j in list_of_countries for i in j]).most_common(5)]\n",
    "\n",
    "        # save top_countries in dedicated instance variable\n",
    "        self.top_countries = top_countries\n",
    "\n",
    "        return self\n",
    "\n",
    "    def transform(self, X, y=None):\n",
    "        \"\"\"\n",
    "        encoding genre and country\n",
    "        \"\"\"\n",
    "        X_new = X.copy()\n",
    "        for genre in self.top_genres:\n",
    "            X_new['genre_' + genre] = X_new['all_genres'].apply(lambda x: 1 if genre in x else 0)\n",
    "        X_new = X_new.drop(columns=[\"all_genres\"])\n",
    "        for country in self.top_countries:\n",
    "            X_new['country_' + country] = X_new['top_countries'].apply(lambda x: 1 if country in x else 0)\n",
    "        X_new = X_new.drop(columns=[\"top_countries\"])\n",
    "        return X_new"
   ]
  },
  {
   "cell_type": "code",
   "execution_count": 104,
   "metadata": {
    "ExecuteTime": {
     "end_time": "2021-06-30T08:59:36.786743Z",
     "start_time": "2021-06-30T08:59:36.660781Z"
    }
   },
   "outputs": [
    {
     "name": "stdout",
     "output_type": "stream",
     "text": [
      "(6463, 15)\n"
     ]
    },
    {
     "data": {
      "text/html": [
       "<div>\n",
       "<style scoped>\n",
       "    .dataframe tbody tr th:only-of-type {\n",
       "        vertical-align: middle;\n",
       "    }\n",
       "\n",
       "    .dataframe tbody tr th {\n",
       "        vertical-align: top;\n",
       "    }\n",
       "\n",
       "    .dataframe thead th {\n",
       "        text-align: right;\n",
       "    }\n",
       "</style>\n",
       "<table border=\"1\" class=\"dataframe\">\n",
       "  <thead>\n",
       "    <tr style=\"text-align: right;\">\n",
       "      <th></th>\n",
       "      <th>genre_Drama</th>\n",
       "      <th>genre_Comedy</th>\n",
       "      <th>genre_Thriller</th>\n",
       "      <th>genre_Action</th>\n",
       "      <th>genre_Romance</th>\n",
       "      <th>genre_Adventure</th>\n",
       "      <th>genre_Crime</th>\n",
       "      <th>genre_Science Fiction</th>\n",
       "      <th>genre_Horror</th>\n",
       "      <th>genre_Family</th>\n",
       "      <th>country_United States of America</th>\n",
       "      <th>country_United Kingdom</th>\n",
       "      <th>country_France</th>\n",
       "      <th>country_Germany</th>\n",
       "      <th>country_Canada</th>\n",
       "    </tr>\n",
       "  </thead>\n",
       "  <tbody>\n",
       "    <tr>\n",
       "      <th>0</th>\n",
       "      <td>0</td>\n",
       "      <td>1</td>\n",
       "      <td>0</td>\n",
       "      <td>0</td>\n",
       "      <td>0</td>\n",
       "      <td>0</td>\n",
       "      <td>0</td>\n",
       "      <td>0</td>\n",
       "      <td>0</td>\n",
       "      <td>0</td>\n",
       "      <td>1</td>\n",
       "      <td>0</td>\n",
       "      <td>0</td>\n",
       "      <td>0</td>\n",
       "      <td>0</td>\n",
       "    </tr>\n",
       "    <tr>\n",
       "      <th>1</th>\n",
       "      <td>1</td>\n",
       "      <td>1</td>\n",
       "      <td>0</td>\n",
       "      <td>0</td>\n",
       "      <td>1</td>\n",
       "      <td>0</td>\n",
       "      <td>0</td>\n",
       "      <td>0</td>\n",
       "      <td>0</td>\n",
       "      <td>1</td>\n",
       "      <td>1</td>\n",
       "      <td>0</td>\n",
       "      <td>0</td>\n",
       "      <td>0</td>\n",
       "      <td>0</td>\n",
       "    </tr>\n",
       "    <tr>\n",
       "      <th>2</th>\n",
       "      <td>1</td>\n",
       "      <td>0</td>\n",
       "      <td>0</td>\n",
       "      <td>0</td>\n",
       "      <td>0</td>\n",
       "      <td>0</td>\n",
       "      <td>0</td>\n",
       "      <td>0</td>\n",
       "      <td>0</td>\n",
       "      <td>0</td>\n",
       "      <td>1</td>\n",
       "      <td>0</td>\n",
       "      <td>0</td>\n",
       "      <td>0</td>\n",
       "      <td>0</td>\n",
       "    </tr>\n",
       "    <tr>\n",
       "      <th>3</th>\n",
       "      <td>1</td>\n",
       "      <td>0</td>\n",
       "      <td>1</td>\n",
       "      <td>0</td>\n",
       "      <td>0</td>\n",
       "      <td>0</td>\n",
       "      <td>0</td>\n",
       "      <td>0</td>\n",
       "      <td>0</td>\n",
       "      <td>0</td>\n",
       "      <td>0</td>\n",
       "      <td>0</td>\n",
       "      <td>0</td>\n",
       "      <td>0</td>\n",
       "      <td>0</td>\n",
       "    </tr>\n",
       "    <tr>\n",
       "      <th>4</th>\n",
       "      <td>0</td>\n",
       "      <td>0</td>\n",
       "      <td>1</td>\n",
       "      <td>0</td>\n",
       "      <td>0</td>\n",
       "      <td>0</td>\n",
       "      <td>0</td>\n",
       "      <td>0</td>\n",
       "      <td>1</td>\n",
       "      <td>0</td>\n",
       "      <td>1</td>\n",
       "      <td>0</td>\n",
       "      <td>0</td>\n",
       "      <td>0</td>\n",
       "      <td>1</td>\n",
       "    </tr>\n",
       "  </tbody>\n",
       "</table>\n",
       "</div>"
      ],
      "text/plain": [
       "   genre_Drama  genre_Comedy  genre_Thriller  genre_Action  genre_Romance  \\\n",
       "0            0             1               0             0              0   \n",
       "1            1             1               0             0              1   \n",
       "2            1             0               0             0              0   \n",
       "3            1             0               1             0              0   \n",
       "4            0             0               1             0              0   \n",
       "\n",
       "   genre_Adventure  genre_Crime  genre_Science Fiction  genre_Horror  \\\n",
       "0                0            0                      0             0   \n",
       "1                0            0                      0             0   \n",
       "2                0            0                      0             0   \n",
       "3                0            0                      0             0   \n",
       "4                0            0                      0             1   \n",
       "\n",
       "   genre_Family  country_United States of America  country_United Kingdom  \\\n",
       "0             0                                 1                       0   \n",
       "1             1                                 1                       0   \n",
       "2             0                                 1                       0   \n",
       "3             0                                 0                       0   \n",
       "4             0                                 1                       0   \n",
       "\n",
       "   country_France  country_Germany  country_Canada  \n",
       "0               0                0               0  \n",
       "1               0                0               0  \n",
       "2               0                0               0  \n",
       "3               0                0               0  \n",
       "4               0                0               1  "
      ]
     },
     "execution_count": 104,
     "metadata": {},
     "output_type": "execute_result"
    }
   ],
   "source": [
    "# Check it out\n",
    "X_custom = CustomGenreAndCountryEncoder().fit_transform(X[['all_genres', 'top_countries']])\n",
    "print(X_custom.shape)\n",
    "X_custom.head()"
   ]
  },
  {
   "cell_type": "markdown",
   "metadata": {},
   "source": [
    "**📝 Compute your `final_pipeline` by integrating all these transformers** (or all those you have coded)\n",
    "\n",
    "- `CustomGenreAndCountryEncoder`\n",
    "- `TimeFeaturesExtractor`\n",
    "- `CyclicalFeatureExtractor`"
   ]
  },
  {
   "cell_type": "code",
   "execution_count": 105,
   "metadata": {
    "ExecuteTime": {
     "end_time": "2021-06-30T09:01:31.312024Z",
     "start_time": "2021-06-30T09:01:31.307537Z"
    },
    "tags": [
     "challengify"
    ]
   },
   "outputs": [],
   "source": [
    "# YOUR CODE HERE\n",
    "final_preprocessing = ColumnTransformer([\n",
    "    ('num_transformer', basic_num_transformer, numerical),\n",
    "    ('cat_transformer', basic_cat_transformer, categorical),\n",
    "    ('time_transformer', TimeFeaturesExtractor(), ['release_date']),\n",
    "    ('genre_country_transformer', CustomGenreAndCountryEncoder(),['all_genres', 'top_countries'] )],sparse_threshold=0)"
   ]
  },
  {
   "cell_type": "code",
   "execution_count": 106,
   "metadata": {
    "ExecuteTime": {
     "end_time": "2021-06-30T09:02:04.195074Z",
     "start_time": "2021-06-30T09:02:04.143478Z"
    }
   },
   "outputs": [
    {
     "data": {
      "text/html": [
       "<style>#sk-019a2b38-8dfd-4316-ab31-cf4e68e2da03 {color: black;background-color: white;}#sk-019a2b38-8dfd-4316-ab31-cf4e68e2da03 pre{padding: 0;}#sk-019a2b38-8dfd-4316-ab31-cf4e68e2da03 div.sk-toggleable {background-color: white;}#sk-019a2b38-8dfd-4316-ab31-cf4e68e2da03 label.sk-toggleable__label {cursor: pointer;display: block;width: 100%;margin-bottom: 0;padding: 0.2em 0.3em;box-sizing: border-box;text-align: center;}#sk-019a2b38-8dfd-4316-ab31-cf4e68e2da03 div.sk-toggleable__content {max-height: 0;max-width: 0;overflow: hidden;text-align: left;background-color: #f0f8ff;}#sk-019a2b38-8dfd-4316-ab31-cf4e68e2da03 div.sk-toggleable__content pre {margin: 0.2em;color: black;border-radius: 0.25em;background-color: #f0f8ff;}#sk-019a2b38-8dfd-4316-ab31-cf4e68e2da03 input.sk-toggleable__control:checked~div.sk-toggleable__content {max-height: 200px;max-width: 100%;overflow: auto;}#sk-019a2b38-8dfd-4316-ab31-cf4e68e2da03 div.sk-estimator input.sk-toggleable__control:checked~label.sk-toggleable__label {background-color: #d4ebff;}#sk-019a2b38-8dfd-4316-ab31-cf4e68e2da03 div.sk-label input.sk-toggleable__control:checked~label.sk-toggleable__label {background-color: #d4ebff;}#sk-019a2b38-8dfd-4316-ab31-cf4e68e2da03 input.sk-hidden--visually {border: 0;clip: rect(1px 1px 1px 1px);clip: rect(1px, 1px, 1px, 1px);height: 1px;margin: -1px;overflow: hidden;padding: 0;position: absolute;width: 1px;}#sk-019a2b38-8dfd-4316-ab31-cf4e68e2da03 div.sk-estimator {font-family: monospace;background-color: #f0f8ff;margin: 0.25em 0.25em;border: 1px dotted black;border-radius: 0.25em;box-sizing: border-box;}#sk-019a2b38-8dfd-4316-ab31-cf4e68e2da03 div.sk-estimator:hover {background-color: #d4ebff;}#sk-019a2b38-8dfd-4316-ab31-cf4e68e2da03 div.sk-parallel-item::after {content: \"\";width: 100%;border-bottom: 1px solid gray;flex-grow: 1;}#sk-019a2b38-8dfd-4316-ab31-cf4e68e2da03 div.sk-label:hover label.sk-toggleable__label {background-color: #d4ebff;}#sk-019a2b38-8dfd-4316-ab31-cf4e68e2da03 div.sk-serial::before {content: \"\";position: absolute;border-left: 1px solid gray;box-sizing: border-box;top: 2em;bottom: 0;left: 50%;}#sk-019a2b38-8dfd-4316-ab31-cf4e68e2da03 div.sk-serial {display: flex;flex-direction: column;align-items: center;background-color: white;}#sk-019a2b38-8dfd-4316-ab31-cf4e68e2da03 div.sk-item {z-index: 1;}#sk-019a2b38-8dfd-4316-ab31-cf4e68e2da03 div.sk-parallel {display: flex;align-items: stretch;justify-content: center;background-color: white;}#sk-019a2b38-8dfd-4316-ab31-cf4e68e2da03 div.sk-parallel-item {display: flex;flex-direction: column;position: relative;background-color: white;}#sk-019a2b38-8dfd-4316-ab31-cf4e68e2da03 div.sk-parallel-item:first-child::after {align-self: flex-end;width: 50%;}#sk-019a2b38-8dfd-4316-ab31-cf4e68e2da03 div.sk-parallel-item:last-child::after {align-self: flex-start;width: 50%;}#sk-019a2b38-8dfd-4316-ab31-cf4e68e2da03 div.sk-parallel-item:only-child::after {width: 0;}#sk-019a2b38-8dfd-4316-ab31-cf4e68e2da03 div.sk-dashed-wrapped {border: 1px dashed gray;margin: 0.2em;box-sizing: border-box;padding-bottom: 0.1em;background-color: white;position: relative;}#sk-019a2b38-8dfd-4316-ab31-cf4e68e2da03 div.sk-label label {font-family: monospace;font-weight: bold;background-color: white;display: inline-block;line-height: 1.2em;}#sk-019a2b38-8dfd-4316-ab31-cf4e68e2da03 div.sk-label-container {position: relative;z-index: 2;text-align: center;}#sk-019a2b38-8dfd-4316-ab31-cf4e68e2da03 div.sk-container {display: inline-block;position: relative;}</style><div id=\"sk-019a2b38-8dfd-4316-ab31-cf4e68e2da03\" class\"sk-top-container\"><div class=\"sk-container\"><div class=\"sk-item sk-dashed-wrapped\"><div class=\"sk-label-container\"><div class=\"sk-label sk-toggleable\"><input class=\"sk-toggleable__control sk-hidden--visually\" id=\"06679941-517b-41e5-acbf-e72a80ba4f65\" type=\"checkbox\" ><label class=\"sk-toggleable__label\" for=\"06679941-517b-41e5-acbf-e72a80ba4f65\">Pipeline</label><div class=\"sk-toggleable__content\"><pre>Pipeline(steps=[('preprocessing',\n",
       "                 ColumnTransformer(sparse_threshold=0,\n",
       "                                   transformers=[('num_transformer',\n",
       "                                                  StandardScaler(),\n",
       "                                                  ['duration_min', 'budget',\n",
       "                                                   'number_of_awards_won',\n",
       "                                                   'number_of_nominations',\n",
       "                                                   'has_collection',\n",
       "                                                   'number_of_top_productions']),\n",
       "                                                 ('cat_transformer',\n",
       "                                                  OneHotEncoder(handle_unknown='ignore'),\n",
       "                                                  ['original_language',\n",
       "                                                   'status', 'all_genres',\n",
       "                                                   'top_countries',\n",
       "                                                   'available_in_english']),\n",
       "                                                 ('time_transformer',\n",
       "                                                  TimeFeaturesExtractor(),\n",
       "                                                  ['release_date']),\n",
       "                                                 ('genre_country_transformer',\n",
       "                                                  CustomGenreAndCountryEncoder(),\n",
       "                                                  ['all_genres',\n",
       "                                                   'top_countries'])])),\n",
       "                ('linear_regression', Lasso())])</pre></div></div></div><div class=\"sk-serial\"><div class=\"sk-item sk-dashed-wrapped\"><div class=\"sk-label-container\"><div class=\"sk-label sk-toggleable\"><input class=\"sk-toggleable__control sk-hidden--visually\" id=\"3d04719b-876d-4ba3-ac04-6dfaaa83fa38\" type=\"checkbox\" ><label class=\"sk-toggleable__label\" for=\"3d04719b-876d-4ba3-ac04-6dfaaa83fa38\">preprocessing: ColumnTransformer</label><div class=\"sk-toggleable__content\"><pre>ColumnTransformer(sparse_threshold=0,\n",
       "                  transformers=[('num_transformer', StandardScaler(),\n",
       "                                 ['duration_min', 'budget',\n",
       "                                  'number_of_awards_won',\n",
       "                                  'number_of_nominations', 'has_collection',\n",
       "                                  'number_of_top_productions']),\n",
       "                                ('cat_transformer',\n",
       "                                 OneHotEncoder(handle_unknown='ignore'),\n",
       "                                 ['original_language', 'status', 'all_genres',\n",
       "                                  'top_countries', 'available_in_english']),\n",
       "                                ('time_transformer', TimeFeaturesExtractor(),\n",
       "                                 ['release_date']),\n",
       "                                ('genre_country_transformer',\n",
       "                                 CustomGenreAndCountryEncoder(),\n",
       "                                 ['all_genres', 'top_countries'])])</pre></div></div></div><div class=\"sk-parallel\"><div class=\"sk-parallel-item\"><div class=\"sk-item\"><div class=\"sk-label-container\"><div class=\"sk-label sk-toggleable\"><input class=\"sk-toggleable__control sk-hidden--visually\" id=\"7bafc855-9ff9-4155-955a-662cf2fb639f\" type=\"checkbox\" ><label class=\"sk-toggleable__label\" for=\"7bafc855-9ff9-4155-955a-662cf2fb639f\">num_transformer</label><div class=\"sk-toggleable__content\"><pre>['duration_min', 'budget', 'number_of_awards_won', 'number_of_nominations', 'has_collection', 'number_of_top_productions']</pre></div></div></div><div class=\"sk-serial\"><div class=\"sk-item\"><div class=\"sk-estimator sk-toggleable\"><input class=\"sk-toggleable__control sk-hidden--visually\" id=\"58a59a5b-6422-4eee-ab2e-f67ecb4b92ef\" type=\"checkbox\" ><label class=\"sk-toggleable__label\" for=\"58a59a5b-6422-4eee-ab2e-f67ecb4b92ef\">StandardScaler</label><div class=\"sk-toggleable__content\"><pre>StandardScaler()</pre></div></div></div></div></div></div><div class=\"sk-parallel-item\"><div class=\"sk-item\"><div class=\"sk-label-container\"><div class=\"sk-label sk-toggleable\"><input class=\"sk-toggleable__control sk-hidden--visually\" id=\"b0cbeb48-567f-4436-a367-379ccbae1f29\" type=\"checkbox\" ><label class=\"sk-toggleable__label\" for=\"b0cbeb48-567f-4436-a367-379ccbae1f29\">cat_transformer</label><div class=\"sk-toggleable__content\"><pre>['original_language', 'status', 'all_genres', 'top_countries', 'available_in_english']</pre></div></div></div><div class=\"sk-serial\"><div class=\"sk-item\"><div class=\"sk-estimator sk-toggleable\"><input class=\"sk-toggleable__control sk-hidden--visually\" id=\"1d39429c-ca56-40c6-b2db-96bfc310ce96\" type=\"checkbox\" ><label class=\"sk-toggleable__label\" for=\"1d39429c-ca56-40c6-b2db-96bfc310ce96\">OneHotEncoder</label><div class=\"sk-toggleable__content\"><pre>OneHotEncoder(handle_unknown='ignore')</pre></div></div></div></div></div></div><div class=\"sk-parallel-item\"><div class=\"sk-item\"><div class=\"sk-label-container\"><div class=\"sk-label sk-toggleable\"><input class=\"sk-toggleable__control sk-hidden--visually\" id=\"e493de2b-0914-4c20-99c9-cbdf116b963f\" type=\"checkbox\" ><label class=\"sk-toggleable__label\" for=\"e493de2b-0914-4c20-99c9-cbdf116b963f\">time_transformer</label><div class=\"sk-toggleable__content\"><pre>['release_date']</pre></div></div></div><div class=\"sk-serial\"><div class=\"sk-item\"><div class=\"sk-estimator sk-toggleable\"><input class=\"sk-toggleable__control sk-hidden--visually\" id=\"86bac2e2-b0d4-4203-86d8-d627af762f7d\" type=\"checkbox\" ><label class=\"sk-toggleable__label\" for=\"86bac2e2-b0d4-4203-86d8-d627af762f7d\">TimeFeaturesExtractor</label><div class=\"sk-toggleable__content\"><pre>TimeFeaturesExtractor()</pre></div></div></div></div></div></div><div class=\"sk-parallel-item\"><div class=\"sk-item\"><div class=\"sk-label-container\"><div class=\"sk-label sk-toggleable\"><input class=\"sk-toggleable__control sk-hidden--visually\" id=\"d62d78d1-27cb-4fbd-b5d7-129cb46646dc\" type=\"checkbox\" ><label class=\"sk-toggleable__label\" for=\"d62d78d1-27cb-4fbd-b5d7-129cb46646dc\">genre_country_transformer</label><div class=\"sk-toggleable__content\"><pre>['all_genres', 'top_countries']</pre></div></div></div><div class=\"sk-serial\"><div class=\"sk-item\"><div class=\"sk-estimator sk-toggleable\"><input class=\"sk-toggleable__control sk-hidden--visually\" id=\"4927c359-02d6-4a1e-b85f-9e76fcfce9db\" type=\"checkbox\" ><label class=\"sk-toggleable__label\" for=\"4927c359-02d6-4a1e-b85f-9e76fcfce9db\">CustomGenreAndCountryEncoder</label><div class=\"sk-toggleable__content\"><pre>CustomGenreAndCountryEncoder()</pre></div></div></div></div></div></div></div></div><div class=\"sk-item\"><div class=\"sk-estimator sk-toggleable\"><input class=\"sk-toggleable__control sk-hidden--visually\" id=\"7696e9a3-002f-4159-b928-c8affc95907f\" type=\"checkbox\" ><label class=\"sk-toggleable__label\" for=\"7696e9a3-002f-4159-b928-c8affc95907f\">Lasso</label><div class=\"sk-toggleable__content\"><pre>Lasso()</pre></div></div></div></div></div></div></div>"
      ],
      "text/plain": [
       "Pipeline(steps=[('preprocessing',\n",
       "                 ColumnTransformer(sparse_threshold=0,\n",
       "                                   transformers=[('num_transformer',\n",
       "                                                  StandardScaler(),\n",
       "                                                  ['duration_min', 'budget',\n",
       "                                                   'number_of_awards_won',\n",
       "                                                   'number_of_nominations',\n",
       "                                                   'has_collection',\n",
       "                                                   'number_of_top_productions']),\n",
       "                                                 ('cat_transformer',\n",
       "                                                  OneHotEncoder(handle_unknown='ignore'),\n",
       "                                                  ['original_language',\n",
       "                                                   'status', 'all_genres',\n",
       "                                                   'top_countries',\n",
       "                                                   'available_in_english']),\n",
       "                                                 ('time_transformer',\n",
       "                                                  TimeFeaturesExtractor(),\n",
       "                                                  ['release_date']),\n",
       "                                                 ('genre_country_transformer',\n",
       "                                                  CustomGenreAndCountryEncoder(),\n",
       "                                                  ['all_genres',\n",
       "                                                   'top_countries'])])),\n",
       "                ('linear_regression', Lasso())])"
      ]
     },
     "execution_count": 106,
     "metadata": {},
     "output_type": "execute_result"
    }
   ],
   "source": [
    "final_pipeline = Pipeline([\n",
    "    ('preprocessing', final_preprocessing),\n",
    "    ('linear_regression', Lasso())])\n",
    "final_pipeline"
   ]
  },
  {
   "cell_type": "code",
   "execution_count": 108,
   "metadata": {
    "ExecuteTime": {
     "end_time": "2021-06-30T09:05:16.380002Z",
     "start_time": "2021-06-30T09:05:14.474437Z"
    }
   },
   "outputs": [],
   "source": [
    "final_scores = cross_val_score(final_pipeline, X, y, cv=5, scoring=scoring)"
   ]
  },
  {
   "cell_type": "code",
   "execution_count": 110,
   "metadata": {
    "ExecuteTime": {
     "end_time": "2021-06-30T09:06:31.062731Z",
     "start_time": "2021-06-30T09:06:31.060182Z"
    }
   },
   "outputs": [],
   "source": [
    "X_time_cyclical = 0"
   ]
  },
  {
   "cell_type": "markdown",
   "metadata": {},
   "source": [
    "📝 **Compute and store its cross validated scores as `final_scores` array of floats**\n",
    "\n",
    "- It does not necessarily improve the performance before we can try-out doing model tuning\n",
    "- However, with a now limited number of features, we will be able to train more complex models in next section (ensemble...)"
   ]
  },
  {
   "cell_type": "markdown",
   "metadata": {},
   "source": [
    "### 🧪 Save your result\n",
    "\n",
    "Run the following cell to save your results."
   ]
  },
  {
   "cell_type": "code",
   "execution_count": 111,
   "metadata": {
    "ExecuteTime": {
     "end_time": "2021-06-30T09:06:32.914099Z",
     "start_time": "2021-06-30T09:06:32.908328Z"
    }
   },
   "outputs": [],
   "source": [
    "ChallengeResult(\n",
    "    'feature_engineering',\n",
    "    X_time_features=X_time_features,\n",
    "    X_time_cyclical= X_time_cyclical,\n",
    "    time_pipeline=time_pipeline,\n",
    "    final_pipeline=final_pipeline,\n",
    "    final_scores=final_scores\n",
    ").write()\n",
    "\n",
    "# Hint: Try restarting your notebook if you obtain an error about saving a custom encoder"
   ]
  },
  {
   "cell_type": "markdown",
   "metadata": {},
   "source": [
    "## Model tuning"
   ]
  },
  {
   "cell_type": "markdown",
   "metadata": {},
   "source": [
    "### Random Forest"
   ]
  },
  {
   "cell_type": "markdown",
   "metadata": {},
   "source": [
    "📝 **Change the estimator of your `final_pipeline` by a Random Forest and checkout your new cross-validated score**"
   ]
  },
  {
   "cell_type": "code",
   "execution_count": 112,
   "metadata": {
    "ExecuteTime": {
     "end_time": "2021-06-30T09:09:12.406868Z",
     "start_time": "2021-06-30T09:09:12.346589Z"
    },
    "tags": [
     "challengify"
    ]
   },
   "outputs": [
    {
     "data": {
      "text/html": [
       "<style>#sk-4a5f7344-78b2-4251-ae71-95899ce1a3a5 {color: black;background-color: white;}#sk-4a5f7344-78b2-4251-ae71-95899ce1a3a5 pre{padding: 0;}#sk-4a5f7344-78b2-4251-ae71-95899ce1a3a5 div.sk-toggleable {background-color: white;}#sk-4a5f7344-78b2-4251-ae71-95899ce1a3a5 label.sk-toggleable__label {cursor: pointer;display: block;width: 100%;margin-bottom: 0;padding: 0.2em 0.3em;box-sizing: border-box;text-align: center;}#sk-4a5f7344-78b2-4251-ae71-95899ce1a3a5 div.sk-toggleable__content {max-height: 0;max-width: 0;overflow: hidden;text-align: left;background-color: #f0f8ff;}#sk-4a5f7344-78b2-4251-ae71-95899ce1a3a5 div.sk-toggleable__content pre {margin: 0.2em;color: black;border-radius: 0.25em;background-color: #f0f8ff;}#sk-4a5f7344-78b2-4251-ae71-95899ce1a3a5 input.sk-toggleable__control:checked~div.sk-toggleable__content {max-height: 200px;max-width: 100%;overflow: auto;}#sk-4a5f7344-78b2-4251-ae71-95899ce1a3a5 div.sk-estimator input.sk-toggleable__control:checked~label.sk-toggleable__label {background-color: #d4ebff;}#sk-4a5f7344-78b2-4251-ae71-95899ce1a3a5 div.sk-label input.sk-toggleable__control:checked~label.sk-toggleable__label {background-color: #d4ebff;}#sk-4a5f7344-78b2-4251-ae71-95899ce1a3a5 input.sk-hidden--visually {border: 0;clip: rect(1px 1px 1px 1px);clip: rect(1px, 1px, 1px, 1px);height: 1px;margin: -1px;overflow: hidden;padding: 0;position: absolute;width: 1px;}#sk-4a5f7344-78b2-4251-ae71-95899ce1a3a5 div.sk-estimator {font-family: monospace;background-color: #f0f8ff;margin: 0.25em 0.25em;border: 1px dotted black;border-radius: 0.25em;box-sizing: border-box;}#sk-4a5f7344-78b2-4251-ae71-95899ce1a3a5 div.sk-estimator:hover {background-color: #d4ebff;}#sk-4a5f7344-78b2-4251-ae71-95899ce1a3a5 div.sk-parallel-item::after {content: \"\";width: 100%;border-bottom: 1px solid gray;flex-grow: 1;}#sk-4a5f7344-78b2-4251-ae71-95899ce1a3a5 div.sk-label:hover label.sk-toggleable__label {background-color: #d4ebff;}#sk-4a5f7344-78b2-4251-ae71-95899ce1a3a5 div.sk-serial::before {content: \"\";position: absolute;border-left: 1px solid gray;box-sizing: border-box;top: 2em;bottom: 0;left: 50%;}#sk-4a5f7344-78b2-4251-ae71-95899ce1a3a5 div.sk-serial {display: flex;flex-direction: column;align-items: center;background-color: white;}#sk-4a5f7344-78b2-4251-ae71-95899ce1a3a5 div.sk-item {z-index: 1;}#sk-4a5f7344-78b2-4251-ae71-95899ce1a3a5 div.sk-parallel {display: flex;align-items: stretch;justify-content: center;background-color: white;}#sk-4a5f7344-78b2-4251-ae71-95899ce1a3a5 div.sk-parallel-item {display: flex;flex-direction: column;position: relative;background-color: white;}#sk-4a5f7344-78b2-4251-ae71-95899ce1a3a5 div.sk-parallel-item:first-child::after {align-self: flex-end;width: 50%;}#sk-4a5f7344-78b2-4251-ae71-95899ce1a3a5 div.sk-parallel-item:last-child::after {align-self: flex-start;width: 50%;}#sk-4a5f7344-78b2-4251-ae71-95899ce1a3a5 div.sk-parallel-item:only-child::after {width: 0;}#sk-4a5f7344-78b2-4251-ae71-95899ce1a3a5 div.sk-dashed-wrapped {border: 1px dashed gray;margin: 0.2em;box-sizing: border-box;padding-bottom: 0.1em;background-color: white;position: relative;}#sk-4a5f7344-78b2-4251-ae71-95899ce1a3a5 div.sk-label label {font-family: monospace;font-weight: bold;background-color: white;display: inline-block;line-height: 1.2em;}#sk-4a5f7344-78b2-4251-ae71-95899ce1a3a5 div.sk-label-container {position: relative;z-index: 2;text-align: center;}#sk-4a5f7344-78b2-4251-ae71-95899ce1a3a5 div.sk-container {display: inline-block;position: relative;}</style><div id=\"sk-4a5f7344-78b2-4251-ae71-95899ce1a3a5\" class\"sk-top-container\"><div class=\"sk-container\"><div class=\"sk-item sk-dashed-wrapped\"><div class=\"sk-label-container\"><div class=\"sk-label sk-toggleable\"><input class=\"sk-toggleable__control sk-hidden--visually\" id=\"cef2dd22-44c0-44db-8713-55e8c529b245\" type=\"checkbox\" ><label class=\"sk-toggleable__label\" for=\"cef2dd22-44c0-44db-8713-55e8c529b245\">Pipeline</label><div class=\"sk-toggleable__content\"><pre>Pipeline(steps=[('preprocessing',\n",
       "                 ColumnTransformer(sparse_threshold=0,\n",
       "                                   transformers=[('num_transformer',\n",
       "                                                  StandardScaler(),\n",
       "                                                  ['duration_min', 'budget',\n",
       "                                                   'number_of_awards_won',\n",
       "                                                   'number_of_nominations',\n",
       "                                                   'has_collection',\n",
       "                                                   'number_of_top_productions']),\n",
       "                                                 ('cat_transformer',\n",
       "                                                  OneHotEncoder(handle_unknown='ignore'),\n",
       "                                                  ['original_language',\n",
       "                                                   'status', 'all_genres',\n",
       "                                                   'top_countries',\n",
       "                                                   'available_in_english']),\n",
       "                                                 ('time_transformer',\n",
       "                                                  TimeFeaturesExtractor(),\n",
       "                                                  ['release_date']),\n",
       "                                                 ('genre_country_transformer',\n",
       "                                                  CustomGenreAndCountryEncoder(),\n",
       "                                                  ['all_genres',\n",
       "                                                   'top_countries'])])),\n",
       "                ('randon_forest', RandomForestRegressor())])</pre></div></div></div><div class=\"sk-serial\"><div class=\"sk-item sk-dashed-wrapped\"><div class=\"sk-label-container\"><div class=\"sk-label sk-toggleable\"><input class=\"sk-toggleable__control sk-hidden--visually\" id=\"1e6d6fab-5c71-47f5-abcb-573fd4d6ab90\" type=\"checkbox\" ><label class=\"sk-toggleable__label\" for=\"1e6d6fab-5c71-47f5-abcb-573fd4d6ab90\">preprocessing: ColumnTransformer</label><div class=\"sk-toggleable__content\"><pre>ColumnTransformer(sparse_threshold=0,\n",
       "                  transformers=[('num_transformer', StandardScaler(),\n",
       "                                 ['duration_min', 'budget',\n",
       "                                  'number_of_awards_won',\n",
       "                                  'number_of_nominations', 'has_collection',\n",
       "                                  'number_of_top_productions']),\n",
       "                                ('cat_transformer',\n",
       "                                 OneHotEncoder(handle_unknown='ignore'),\n",
       "                                 ['original_language', 'status', 'all_genres',\n",
       "                                  'top_countries', 'available_in_english']),\n",
       "                                ('time_transformer', TimeFeaturesExtractor(),\n",
       "                                 ['release_date']),\n",
       "                                ('genre_country_transformer',\n",
       "                                 CustomGenreAndCountryEncoder(),\n",
       "                                 ['all_genres', 'top_countries'])])</pre></div></div></div><div class=\"sk-parallel\"><div class=\"sk-parallel-item\"><div class=\"sk-item\"><div class=\"sk-label-container\"><div class=\"sk-label sk-toggleable\"><input class=\"sk-toggleable__control sk-hidden--visually\" id=\"88a78610-c437-4164-bf79-43c1cc0c6dc2\" type=\"checkbox\" ><label class=\"sk-toggleable__label\" for=\"88a78610-c437-4164-bf79-43c1cc0c6dc2\">num_transformer</label><div class=\"sk-toggleable__content\"><pre>['duration_min', 'budget', 'number_of_awards_won', 'number_of_nominations', 'has_collection', 'number_of_top_productions']</pre></div></div></div><div class=\"sk-serial\"><div class=\"sk-item\"><div class=\"sk-estimator sk-toggleable\"><input class=\"sk-toggleable__control sk-hidden--visually\" id=\"a68661c9-dd2f-4aef-bc4d-6390a7722e8b\" type=\"checkbox\" ><label class=\"sk-toggleable__label\" for=\"a68661c9-dd2f-4aef-bc4d-6390a7722e8b\">StandardScaler</label><div class=\"sk-toggleable__content\"><pre>StandardScaler()</pre></div></div></div></div></div></div><div class=\"sk-parallel-item\"><div class=\"sk-item\"><div class=\"sk-label-container\"><div class=\"sk-label sk-toggleable\"><input class=\"sk-toggleable__control sk-hidden--visually\" id=\"a9bdb3d4-0b74-40af-89df-5e5fbd2bb730\" type=\"checkbox\" ><label class=\"sk-toggleable__label\" for=\"a9bdb3d4-0b74-40af-89df-5e5fbd2bb730\">cat_transformer</label><div class=\"sk-toggleable__content\"><pre>['original_language', 'status', 'all_genres', 'top_countries', 'available_in_english']</pre></div></div></div><div class=\"sk-serial\"><div class=\"sk-item\"><div class=\"sk-estimator sk-toggleable\"><input class=\"sk-toggleable__control sk-hidden--visually\" id=\"478ffd6a-9a58-4406-ade8-4063b1c0d475\" type=\"checkbox\" ><label class=\"sk-toggleable__label\" for=\"478ffd6a-9a58-4406-ade8-4063b1c0d475\">OneHotEncoder</label><div class=\"sk-toggleable__content\"><pre>OneHotEncoder(handle_unknown='ignore')</pre></div></div></div></div></div></div><div class=\"sk-parallel-item\"><div class=\"sk-item\"><div class=\"sk-label-container\"><div class=\"sk-label sk-toggleable\"><input class=\"sk-toggleable__control sk-hidden--visually\" id=\"6944cef7-45bb-45e6-bf1c-2f67df1aba56\" type=\"checkbox\" ><label class=\"sk-toggleable__label\" for=\"6944cef7-45bb-45e6-bf1c-2f67df1aba56\">time_transformer</label><div class=\"sk-toggleable__content\"><pre>['release_date']</pre></div></div></div><div class=\"sk-serial\"><div class=\"sk-item\"><div class=\"sk-estimator sk-toggleable\"><input class=\"sk-toggleable__control sk-hidden--visually\" id=\"9cde4187-7e9d-4169-8989-525918f7bd90\" type=\"checkbox\" ><label class=\"sk-toggleable__label\" for=\"9cde4187-7e9d-4169-8989-525918f7bd90\">TimeFeaturesExtractor</label><div class=\"sk-toggleable__content\"><pre>TimeFeaturesExtractor()</pre></div></div></div></div></div></div><div class=\"sk-parallel-item\"><div class=\"sk-item\"><div class=\"sk-label-container\"><div class=\"sk-label sk-toggleable\"><input class=\"sk-toggleable__control sk-hidden--visually\" id=\"7fc8af62-c538-4df4-9e52-418be25650af\" type=\"checkbox\" ><label class=\"sk-toggleable__label\" for=\"7fc8af62-c538-4df4-9e52-418be25650af\">genre_country_transformer</label><div class=\"sk-toggleable__content\"><pre>['all_genres', 'top_countries']</pre></div></div></div><div class=\"sk-serial\"><div class=\"sk-item\"><div class=\"sk-estimator sk-toggleable\"><input class=\"sk-toggleable__control sk-hidden--visually\" id=\"ae2371ff-daec-4a55-a217-cb91fd17aeb8\" type=\"checkbox\" ><label class=\"sk-toggleable__label\" for=\"ae2371ff-daec-4a55-a217-cb91fd17aeb8\">CustomGenreAndCountryEncoder</label><div class=\"sk-toggleable__content\"><pre>CustomGenreAndCountryEncoder()</pre></div></div></div></div></div></div></div></div><div class=\"sk-item\"><div class=\"sk-estimator sk-toggleable\"><input class=\"sk-toggleable__control sk-hidden--visually\" id=\"6a5aca0c-6354-4cc8-ae5c-e54fe2253a6f\" type=\"checkbox\" ><label class=\"sk-toggleable__label\" for=\"6a5aca0c-6354-4cc8-ae5c-e54fe2253a6f\">RandomForestRegressor</label><div class=\"sk-toggleable__content\"><pre>RandomForestRegressor()</pre></div></div></div></div></div></div></div>"
      ],
      "text/plain": [
       "Pipeline(steps=[('preprocessing',\n",
       "                 ColumnTransformer(sparse_threshold=0,\n",
       "                                   transformers=[('num_transformer',\n",
       "                                                  StandardScaler(),\n",
       "                                                  ['duration_min', 'budget',\n",
       "                                                   'number_of_awards_won',\n",
       "                                                   'number_of_nominations',\n",
       "                                                   'has_collection',\n",
       "                                                   'number_of_top_productions']),\n",
       "                                                 ('cat_transformer',\n",
       "                                                  OneHotEncoder(handle_unknown='ignore'),\n",
       "                                                  ['original_language',\n",
       "                                                   'status', 'all_genres',\n",
       "                                                   'top_countries',\n",
       "                                                   'available_in_english']),\n",
       "                                                 ('time_transformer',\n",
       "                                                  TimeFeaturesExtractor(),\n",
       "                                                  ['release_date']),\n",
       "                                                 ('genre_country_transformer',\n",
       "                                                  CustomGenreAndCountryEncoder(),\n",
       "                                                  ['all_genres',\n",
       "                                                   'top_countries'])])),\n",
       "                ('randon_forest', RandomForestRegressor())])"
      ]
     },
     "execution_count": 112,
     "metadata": {},
     "output_type": "execute_result"
    }
   ],
   "source": [
    "# YOUR CODE HERE\n",
    "from sklearn.ensemble import RandomForestRegressor\n",
    "\n",
    "final_pipeline = Pipeline([\n",
    "    ('preprocessing', final_preprocessing),\n",
    "    ('randon_forest', RandomForestRegressor())])\n",
    "final_pipeline"
   ]
  },
  {
   "cell_type": "code",
   "execution_count": 113,
   "metadata": {
    "ExecuteTime": {
     "end_time": "2021-06-30T09:11:30.668593Z",
     "start_time": "2021-06-30T09:09:27.638480Z"
    }
   },
   "outputs": [
    {
     "data": {
      "text/plain": [
       "array([-0.23521563, -0.23063799, -0.22877074, -0.22501429, -0.23250801])"
      ]
     },
     "execution_count": 113,
     "metadata": {},
     "output_type": "execute_result"
    }
   ],
   "source": [
    "cross_val_score(final_pipeline, X, y, cv=5, scoring=scoring)"
   ]
  },
  {
   "cell_type": "markdown",
   "metadata": {},
   "source": [
    "### Best hyperparameters quest\n",
    "\n",
    "\n",
    "\n",
    "**📝 Fine tune your model to try to get the best performance in the minimum amount of time!**\n",
    "\n",
    "- Store the result of your search inside the `search` variable.\n",
    "- Store your 5 cross-validated scores inside `best_scores` array of floats"
   ]
  },
  {
   "cell_type": "code",
   "execution_count": 115,
   "metadata": {
    "ExecuteTime": {
     "end_time": "2021-06-30T09:18:52.981161Z",
     "start_time": "2021-06-30T09:18:14.657725Z"
    },
    "scrolled": true,
    "tags": [
     "challengify"
    ]
   },
   "outputs": [
    {
     "data": {
      "text/plain": [
       "{'memory': None,\n",
       " 'steps': [('preprocessing',\n",
       "   ColumnTransformer(sparse_threshold=0,\n",
       "                     transformers=[('num_transformer', StandardScaler(),\n",
       "                                    ['duration_min', 'budget',\n",
       "                                     'number_of_awards_won',\n",
       "                                     'number_of_nominations', 'has_collection',\n",
       "                                     'number_of_top_productions']),\n",
       "                                   ('cat_transformer',\n",
       "                                    OneHotEncoder(handle_unknown='ignore'),\n",
       "                                    ['original_language', 'status', 'all_genres',\n",
       "                                     'top_countries', 'available_in_english']),\n",
       "                                   ('time_transformer', TimeFeaturesExtractor(),\n",
       "                                    ['release_date']),\n",
       "                                   ('genre_country_transformer',\n",
       "                                    CustomGenreAndCountryEncoder(),\n",
       "                                    ['all_genres', 'top_countries'])])),\n",
       "  ('randon_forest', RandomForestRegressor())],\n",
       " 'verbose': False,\n",
       " 'preprocessing': ColumnTransformer(sparse_threshold=0,\n",
       "                   transformers=[('num_transformer', StandardScaler(),\n",
       "                                  ['duration_min', 'budget',\n",
       "                                   'number_of_awards_won',\n",
       "                                   'number_of_nominations', 'has_collection',\n",
       "                                   'number_of_top_productions']),\n",
       "                                 ('cat_transformer',\n",
       "                                  OneHotEncoder(handle_unknown='ignore'),\n",
       "                                  ['original_language', 'status', 'all_genres',\n",
       "                                   'top_countries', 'available_in_english']),\n",
       "                                 ('time_transformer', TimeFeaturesExtractor(),\n",
       "                                  ['release_date']),\n",
       "                                 ('genre_country_transformer',\n",
       "                                  CustomGenreAndCountryEncoder(),\n",
       "                                  ['all_genres', 'top_countries'])]),\n",
       " 'randon_forest': RandomForestRegressor(),\n",
       " 'preprocessing__n_jobs': None,\n",
       " 'preprocessing__remainder': 'drop',\n",
       " 'preprocessing__sparse_threshold': 0,\n",
       " 'preprocessing__transformer_weights': None,\n",
       " 'preprocessing__transformers': [('num_transformer',\n",
       "   StandardScaler(),\n",
       "   ['duration_min',\n",
       "    'budget',\n",
       "    'number_of_awards_won',\n",
       "    'number_of_nominations',\n",
       "    'has_collection',\n",
       "    'number_of_top_productions']),\n",
       "  ('cat_transformer',\n",
       "   OneHotEncoder(handle_unknown='ignore'),\n",
       "   ['original_language',\n",
       "    'status',\n",
       "    'all_genres',\n",
       "    'top_countries',\n",
       "    'available_in_english']),\n",
       "  ('time_transformer', TimeFeaturesExtractor(), ['release_date']),\n",
       "  ('genre_country_transformer',\n",
       "   CustomGenreAndCountryEncoder(),\n",
       "   ['all_genres', 'top_countries'])],\n",
       " 'preprocessing__verbose': False,\n",
       " 'preprocessing__num_transformer': StandardScaler(),\n",
       " 'preprocessing__cat_transformer': OneHotEncoder(handle_unknown='ignore'),\n",
       " 'preprocessing__time_transformer': TimeFeaturesExtractor(),\n",
       " 'preprocessing__genre_country_transformer': CustomGenreAndCountryEncoder(),\n",
       " 'preprocessing__num_transformer__copy': True,\n",
       " 'preprocessing__num_transformer__with_mean': True,\n",
       " 'preprocessing__num_transformer__with_std': True,\n",
       " 'preprocessing__cat_transformer__categories': 'auto',\n",
       " 'preprocessing__cat_transformer__drop': None,\n",
       " 'preprocessing__cat_transformer__dtype': numpy.float64,\n",
       " 'preprocessing__cat_transformer__handle_unknown': 'ignore',\n",
       " 'preprocessing__cat_transformer__sparse': True,\n",
       " 'randon_forest__bootstrap': True,\n",
       " 'randon_forest__ccp_alpha': 0.0,\n",
       " 'randon_forest__criterion': 'mse',\n",
       " 'randon_forest__max_depth': None,\n",
       " 'randon_forest__max_features': 'auto',\n",
       " 'randon_forest__max_leaf_nodes': None,\n",
       " 'randon_forest__max_samples': None,\n",
       " 'randon_forest__min_impurity_decrease': 0.0,\n",
       " 'randon_forest__min_impurity_split': None,\n",
       " 'randon_forest__min_samples_leaf': 1,\n",
       " 'randon_forest__min_samples_split': 2,\n",
       " 'randon_forest__min_weight_fraction_leaf': 0.0,\n",
       " 'randon_forest__n_estimators': 100,\n",
       " 'randon_forest__n_jobs': None,\n",
       " 'randon_forest__oob_score': False,\n",
       " 'randon_forest__random_state': None,\n",
       " 'randon_forest__verbose': 0,\n",
       " 'randon_forest__warm_start': False}"
      ]
     },
     "execution_count": 115,
     "metadata": {},
     "output_type": "execute_result"
    }
   ],
   "source": [
    "# YOUR CODE HERE\n",
    "final_pipe_trained = final_pipeline.fit(X,y)\n",
    "final_pipe_trained.get_params()"
   ]
  },
  {
   "cell_type": "code",
   "execution_count": 116,
   "metadata": {
    "ExecuteTime": {
     "end_time": "2021-06-30T09:24:35.092036Z",
     "start_time": "2021-06-30T09:24:35.089155Z"
    }
   },
   "outputs": [],
   "source": [
    "from sklearn.model_selection import GridSearchCV\n",
    "from sklearn.preprocessing import RobustScaler,MinMaxScaler"
   ]
  },
  {
   "cell_type": "code",
   "execution_count": 122,
   "metadata": {
    "ExecuteTime": {
     "end_time": "2021-06-30T09:44:08.482671Z",
     "start_time": "2021-06-30T09:39:31.428214Z"
    }
   },
   "outputs": [
    {
     "data": {
      "text/plain": [
       "{'preprocessing__num_transformer': StandardScaler(),\n",
       " 'randon_forest__max_depth': 12}"
      ]
     },
     "execution_count": 122,
     "metadata": {},
     "output_type": "execute_result"
    }
   ],
   "source": [
    "# Instanciate grid search\n",
    "search = GridSearchCV(\n",
    "    final_pipeline, \n",
    "    param_grid={\n",
    "        'preprocessing__num_transformer': [StandardScaler(), RobustScaler(),MinMaxScaler()],\n",
    "        'randon_forest__max_depth': [8,10,12]},\n",
    "    cv=5,\n",
    "    scoring=scoring,\n",
    "    n_jobs=-1)\n",
    "\n",
    "search.fit(X, y)\n",
    "search.best_params_"
   ]
  },
  {
   "cell_type": "code",
   "execution_count": 129,
   "metadata": {
    "ExecuteTime": {
     "end_time": "2021-06-30T09:49:55.757402Z",
     "start_time": "2021-06-30T09:49:55.753975Z"
    }
   },
   "outputs": [],
   "source": [
    "best_scores = search.cv_results_['mean_test_score']"
   ]
  },
  {
   "cell_type": "markdown",
   "metadata": {},
   "source": [
    "**📝 Re-train your best pipeline on the whole (X,y) dataset**\n",
    "- Store the trained pipeline inside the `best_pipeline` variable"
   ]
  },
  {
   "cell_type": "code",
   "execution_count": 130,
   "metadata": {
    "ExecuteTime": {
     "end_time": "2021-06-30T09:50:44.463579Z",
     "start_time": "2021-06-30T09:50:44.461054Z"
    },
    "tags": [
     "challengify"
    ]
   },
   "outputs": [],
   "source": [
    "# YOUR CODE HERE\n",
    "best_pipeline = search.best_estimator_"
   ]
  },
  {
   "cell_type": "code",
   "execution_count": 131,
   "metadata": {
    "ExecuteTime": {
     "end_time": "2021-06-30T09:51:23.989599Z",
     "start_time": "2021-06-30T09:50:54.625553Z"
    }
   },
   "outputs": [
    {
     "data": {
      "text/html": [
       "<style>#sk-63f208a8-9c41-4cde-8e4b-f53c3234b210 {color: black;background-color: white;}#sk-63f208a8-9c41-4cde-8e4b-f53c3234b210 pre{padding: 0;}#sk-63f208a8-9c41-4cde-8e4b-f53c3234b210 div.sk-toggleable {background-color: white;}#sk-63f208a8-9c41-4cde-8e4b-f53c3234b210 label.sk-toggleable__label {cursor: pointer;display: block;width: 100%;margin-bottom: 0;padding: 0.2em 0.3em;box-sizing: border-box;text-align: center;}#sk-63f208a8-9c41-4cde-8e4b-f53c3234b210 div.sk-toggleable__content {max-height: 0;max-width: 0;overflow: hidden;text-align: left;background-color: #f0f8ff;}#sk-63f208a8-9c41-4cde-8e4b-f53c3234b210 div.sk-toggleable__content pre {margin: 0.2em;color: black;border-radius: 0.25em;background-color: #f0f8ff;}#sk-63f208a8-9c41-4cde-8e4b-f53c3234b210 input.sk-toggleable__control:checked~div.sk-toggleable__content {max-height: 200px;max-width: 100%;overflow: auto;}#sk-63f208a8-9c41-4cde-8e4b-f53c3234b210 div.sk-estimator input.sk-toggleable__control:checked~label.sk-toggleable__label {background-color: #d4ebff;}#sk-63f208a8-9c41-4cde-8e4b-f53c3234b210 div.sk-label input.sk-toggleable__control:checked~label.sk-toggleable__label {background-color: #d4ebff;}#sk-63f208a8-9c41-4cde-8e4b-f53c3234b210 input.sk-hidden--visually {border: 0;clip: rect(1px 1px 1px 1px);clip: rect(1px, 1px, 1px, 1px);height: 1px;margin: -1px;overflow: hidden;padding: 0;position: absolute;width: 1px;}#sk-63f208a8-9c41-4cde-8e4b-f53c3234b210 div.sk-estimator {font-family: monospace;background-color: #f0f8ff;margin: 0.25em 0.25em;border: 1px dotted black;border-radius: 0.25em;box-sizing: border-box;}#sk-63f208a8-9c41-4cde-8e4b-f53c3234b210 div.sk-estimator:hover {background-color: #d4ebff;}#sk-63f208a8-9c41-4cde-8e4b-f53c3234b210 div.sk-parallel-item::after {content: \"\";width: 100%;border-bottom: 1px solid gray;flex-grow: 1;}#sk-63f208a8-9c41-4cde-8e4b-f53c3234b210 div.sk-label:hover label.sk-toggleable__label {background-color: #d4ebff;}#sk-63f208a8-9c41-4cde-8e4b-f53c3234b210 div.sk-serial::before {content: \"\";position: absolute;border-left: 1px solid gray;box-sizing: border-box;top: 2em;bottom: 0;left: 50%;}#sk-63f208a8-9c41-4cde-8e4b-f53c3234b210 div.sk-serial {display: flex;flex-direction: column;align-items: center;background-color: white;}#sk-63f208a8-9c41-4cde-8e4b-f53c3234b210 div.sk-item {z-index: 1;}#sk-63f208a8-9c41-4cde-8e4b-f53c3234b210 div.sk-parallel {display: flex;align-items: stretch;justify-content: center;background-color: white;}#sk-63f208a8-9c41-4cde-8e4b-f53c3234b210 div.sk-parallel-item {display: flex;flex-direction: column;position: relative;background-color: white;}#sk-63f208a8-9c41-4cde-8e4b-f53c3234b210 div.sk-parallel-item:first-child::after {align-self: flex-end;width: 50%;}#sk-63f208a8-9c41-4cde-8e4b-f53c3234b210 div.sk-parallel-item:last-child::after {align-self: flex-start;width: 50%;}#sk-63f208a8-9c41-4cde-8e4b-f53c3234b210 div.sk-parallel-item:only-child::after {width: 0;}#sk-63f208a8-9c41-4cde-8e4b-f53c3234b210 div.sk-dashed-wrapped {border: 1px dashed gray;margin: 0.2em;box-sizing: border-box;padding-bottom: 0.1em;background-color: white;position: relative;}#sk-63f208a8-9c41-4cde-8e4b-f53c3234b210 div.sk-label label {font-family: monospace;font-weight: bold;background-color: white;display: inline-block;line-height: 1.2em;}#sk-63f208a8-9c41-4cde-8e4b-f53c3234b210 div.sk-label-container {position: relative;z-index: 2;text-align: center;}#sk-63f208a8-9c41-4cde-8e4b-f53c3234b210 div.sk-container {display: inline-block;position: relative;}</style><div id=\"sk-63f208a8-9c41-4cde-8e4b-f53c3234b210\" class\"sk-top-container\"><div class=\"sk-container\"><div class=\"sk-item sk-dashed-wrapped\"><div class=\"sk-label-container\"><div class=\"sk-label sk-toggleable\"><input class=\"sk-toggleable__control sk-hidden--visually\" id=\"a989659d-e1d8-4862-8cca-35d4545b7e32\" type=\"checkbox\" ><label class=\"sk-toggleable__label\" for=\"a989659d-e1d8-4862-8cca-35d4545b7e32\">Pipeline</label><div class=\"sk-toggleable__content\"><pre>Pipeline(steps=[('preprocessing',\n",
       "                 ColumnTransformer(sparse_threshold=0,\n",
       "                                   transformers=[('num_transformer',\n",
       "                                                  StandardScaler(),\n",
       "                                                  ['duration_min', 'budget',\n",
       "                                                   'number_of_awards_won',\n",
       "                                                   'number_of_nominations',\n",
       "                                                   'has_collection',\n",
       "                                                   'number_of_top_productions']),\n",
       "                                                 ('cat_transformer',\n",
       "                                                  OneHotEncoder(handle_unknown='ignore'),\n",
       "                                                  ['original_language',\n",
       "                                                   'status', 'all_genres',\n",
       "                                                   'top_countries',\n",
       "                                                   'available_in_english']),\n",
       "                                                 ('time_transformer',\n",
       "                                                  TimeFeaturesExtractor(),\n",
       "                                                  ['release_date']),\n",
       "                                                 ('genre_country_transformer',\n",
       "                                                  CustomGenreAndCountryEncoder(),\n",
       "                                                  ['all_genres',\n",
       "                                                   'top_countries'])])),\n",
       "                ('randon_forest', RandomForestRegressor(max_depth=12))])</pre></div></div></div><div class=\"sk-serial\"><div class=\"sk-item sk-dashed-wrapped\"><div class=\"sk-label-container\"><div class=\"sk-label sk-toggleable\"><input class=\"sk-toggleable__control sk-hidden--visually\" id=\"f145e4b7-ea4e-41c0-b9d3-1107ab6f45d4\" type=\"checkbox\" ><label class=\"sk-toggleable__label\" for=\"f145e4b7-ea4e-41c0-b9d3-1107ab6f45d4\">preprocessing: ColumnTransformer</label><div class=\"sk-toggleable__content\"><pre>ColumnTransformer(sparse_threshold=0,\n",
       "                  transformers=[('num_transformer', StandardScaler(),\n",
       "                                 ['duration_min', 'budget',\n",
       "                                  'number_of_awards_won',\n",
       "                                  'number_of_nominations', 'has_collection',\n",
       "                                  'number_of_top_productions']),\n",
       "                                ('cat_transformer',\n",
       "                                 OneHotEncoder(handle_unknown='ignore'),\n",
       "                                 ['original_language', 'status', 'all_genres',\n",
       "                                  'top_countries', 'available_in_english']),\n",
       "                                ('time_transformer', TimeFeaturesExtractor(),\n",
       "                                 ['release_date']),\n",
       "                                ('genre_country_transformer',\n",
       "                                 CustomGenreAndCountryEncoder(),\n",
       "                                 ['all_genres', 'top_countries'])])</pre></div></div></div><div class=\"sk-parallel\"><div class=\"sk-parallel-item\"><div class=\"sk-item\"><div class=\"sk-label-container\"><div class=\"sk-label sk-toggleable\"><input class=\"sk-toggleable__control sk-hidden--visually\" id=\"011499ae-b9f9-449e-a34d-1af606386d48\" type=\"checkbox\" ><label class=\"sk-toggleable__label\" for=\"011499ae-b9f9-449e-a34d-1af606386d48\">num_transformer</label><div class=\"sk-toggleable__content\"><pre>['duration_min', 'budget', 'number_of_awards_won', 'number_of_nominations', 'has_collection', 'number_of_top_productions']</pre></div></div></div><div class=\"sk-serial\"><div class=\"sk-item\"><div class=\"sk-estimator sk-toggleable\"><input class=\"sk-toggleable__control sk-hidden--visually\" id=\"b32b8c78-d883-4601-89d4-6dc24c29f386\" type=\"checkbox\" ><label class=\"sk-toggleable__label\" for=\"b32b8c78-d883-4601-89d4-6dc24c29f386\">StandardScaler</label><div class=\"sk-toggleable__content\"><pre>StandardScaler()</pre></div></div></div></div></div></div><div class=\"sk-parallel-item\"><div class=\"sk-item\"><div class=\"sk-label-container\"><div class=\"sk-label sk-toggleable\"><input class=\"sk-toggleable__control sk-hidden--visually\" id=\"f1ea3e45-2e72-4164-a9ad-f003f524d918\" type=\"checkbox\" ><label class=\"sk-toggleable__label\" for=\"f1ea3e45-2e72-4164-a9ad-f003f524d918\">cat_transformer</label><div class=\"sk-toggleable__content\"><pre>['original_language', 'status', 'all_genres', 'top_countries', 'available_in_english']</pre></div></div></div><div class=\"sk-serial\"><div class=\"sk-item\"><div class=\"sk-estimator sk-toggleable\"><input class=\"sk-toggleable__control sk-hidden--visually\" id=\"75051b3a-10df-4ed7-a4d3-fa33a3023f33\" type=\"checkbox\" ><label class=\"sk-toggleable__label\" for=\"75051b3a-10df-4ed7-a4d3-fa33a3023f33\">OneHotEncoder</label><div class=\"sk-toggleable__content\"><pre>OneHotEncoder(handle_unknown='ignore')</pre></div></div></div></div></div></div><div class=\"sk-parallel-item\"><div class=\"sk-item\"><div class=\"sk-label-container\"><div class=\"sk-label sk-toggleable\"><input class=\"sk-toggleable__control sk-hidden--visually\" id=\"9c0d17de-6fd5-47ab-b4ca-7a7e2ef9ae40\" type=\"checkbox\" ><label class=\"sk-toggleable__label\" for=\"9c0d17de-6fd5-47ab-b4ca-7a7e2ef9ae40\">time_transformer</label><div class=\"sk-toggleable__content\"><pre>['release_date']</pre></div></div></div><div class=\"sk-serial\"><div class=\"sk-item\"><div class=\"sk-estimator sk-toggleable\"><input class=\"sk-toggleable__control sk-hidden--visually\" id=\"599e4b8a-3810-461c-b79f-d5199d491d3a\" type=\"checkbox\" ><label class=\"sk-toggleable__label\" for=\"599e4b8a-3810-461c-b79f-d5199d491d3a\">TimeFeaturesExtractor</label><div class=\"sk-toggleable__content\"><pre>TimeFeaturesExtractor()</pre></div></div></div></div></div></div><div class=\"sk-parallel-item\"><div class=\"sk-item\"><div class=\"sk-label-container\"><div class=\"sk-label sk-toggleable\"><input class=\"sk-toggleable__control sk-hidden--visually\" id=\"e49cd5bb-e9a2-4933-a77b-024713019baf\" type=\"checkbox\" ><label class=\"sk-toggleable__label\" for=\"e49cd5bb-e9a2-4933-a77b-024713019baf\">genre_country_transformer</label><div class=\"sk-toggleable__content\"><pre>['all_genres', 'top_countries']</pre></div></div></div><div class=\"sk-serial\"><div class=\"sk-item\"><div class=\"sk-estimator sk-toggleable\"><input class=\"sk-toggleable__control sk-hidden--visually\" id=\"2ad2bbeb-e87b-4068-82e9-085e5f1a8200\" type=\"checkbox\" ><label class=\"sk-toggleable__label\" for=\"2ad2bbeb-e87b-4068-82e9-085e5f1a8200\">CustomGenreAndCountryEncoder</label><div class=\"sk-toggleable__content\"><pre>CustomGenreAndCountryEncoder()</pre></div></div></div></div></div></div></div></div><div class=\"sk-item\"><div class=\"sk-estimator sk-toggleable\"><input class=\"sk-toggleable__control sk-hidden--visually\" id=\"eb828794-e542-446f-ac36-f43c3652fd60\" type=\"checkbox\" ><label class=\"sk-toggleable__label\" for=\"eb828794-e542-446f-ac36-f43c3652fd60\">RandomForestRegressor</label><div class=\"sk-toggleable__content\"><pre>RandomForestRegressor(max_depth=12)</pre></div></div></div></div></div></div></div>"
      ],
      "text/plain": [
       "Pipeline(steps=[('preprocessing',\n",
       "                 ColumnTransformer(sparse_threshold=0,\n",
       "                                   transformers=[('num_transformer',\n",
       "                                                  StandardScaler(),\n",
       "                                                  ['duration_min', 'budget',\n",
       "                                                   'number_of_awards_won',\n",
       "                                                   'number_of_nominations',\n",
       "                                                   'has_collection',\n",
       "                                                   'number_of_top_productions']),\n",
       "                                                 ('cat_transformer',\n",
       "                                                  OneHotEncoder(handle_unknown='ignore'),\n",
       "                                                  ['original_language',\n",
       "                                                   'status', 'all_genres',\n",
       "                                                   'top_countries',\n",
       "                                                   'available_in_english']),\n",
       "                                                 ('time_transformer',\n",
       "                                                  TimeFeaturesExtractor(),\n",
       "                                                  ['release_date']),\n",
       "                                                 ('genre_country_transformer',\n",
       "                                                  CustomGenreAndCountryEncoder(),\n",
       "                                                  ['all_genres',\n",
       "                                                   'top_countries'])])),\n",
       "                ('randon_forest', RandomForestRegressor(max_depth=12))])"
      ]
     },
     "execution_count": 131,
     "metadata": {},
     "output_type": "execute_result"
    }
   ],
   "source": [
    "best_pipeline.fit(X,y)"
   ]
  },
  {
   "cell_type": "markdown",
   "metadata": {},
   "source": [
    "### Prediction\n",
    "\n",
    "Now you have your model tuned with the best hyperparameters, you are ready for a prediction.\n",
    "\n",
    "Here is a famous TV show released in 2017:\n",
    "\n",
    "```python\n",
    "dict(\n",
    "        original_title=str(\"La Casa de Papel\"),\n",
    "        title=str(\"Money Heist\"), \n",
    "        release_date= pd.to_datetime([\"2017-05-02\"]), \n",
    "        duration_min=float(50),\n",
    "        description=str(\"An unusual group of robbers attempt to carry out the most perfect robbery\"), \n",
    "        budget=float(3_000_000), \n",
    "        original_language =str(\"es\"), \n",
    "        status=str(\"Released\"),\n",
    "        number_of_awards_won =int(2), \n",
    "        number_of_nominations=int(5), \n",
    "        has_collection=int(1),\n",
    "        all_genres=str(\"Action, Crime, Mystery\"), \n",
    "        top_countries=str(\"Spain, France, United States of America\"), \n",
    "        number_of_top_productions=int('1'),\n",
    "        available_in_english=bool('True') \n",
    ")\n",
    "```\n",
    "\n",
    "**📝 Compute the predicted popularity of this TV show and store it into the `popularity` variable as a floating number.**"
   ]
  },
  {
   "cell_type": "code",
   "execution_count": 133,
   "metadata": {
    "ExecuteTime": {
     "end_time": "2021-06-30T09:53:31.990744Z",
     "start_time": "2021-06-30T09:53:31.982894Z"
    }
   },
   "outputs": [],
   "source": [
    "casa = dict(\n",
    "        original_title=str(\"La Casa de Papel\"),\n",
    "        title=str(\"Money Heist\"), \n",
    "        release_date= pd.to_datetime([\"2017-05-02\"]), \n",
    "        duration_min=float(50),\n",
    "        description=str(\"An unusual group of robbers attempt to carry out the most perfect robbery\"), \n",
    "        budget=float(3_000_000), \n",
    "        original_language =str(\"es\"), \n",
    "        status=str(\"Released\"),\n",
    "        number_of_awards_won =int(2), \n",
    "        number_of_nominations=int(5), \n",
    "        has_collection=int(1),\n",
    "        all_genres=str(\"Action, Crime, Mystery\"), \n",
    "        top_countries=str(\"Spain, France, United States of America\"), \n",
    "        number_of_top_productions=int('1'),\n",
    "        available_in_english=bool('True') \n",
    ")"
   ]
  },
  {
   "cell_type": "code",
   "execution_count": 135,
   "metadata": {
    "ExecuteTime": {
     "end_time": "2021-06-30T09:54:07.450752Z",
     "start_time": "2021-06-30T09:54:07.444669Z"
    },
    "tags": [
     "challengify"
    ]
   },
   "outputs": [],
   "source": [
    "# YOUR CODE HERE\n",
    "prediction = pd.DataFrame.from_dict(casa)"
   ]
  },
  {
   "cell_type": "code",
   "execution_count": 136,
   "metadata": {
    "ExecuteTime": {
     "end_time": "2021-06-30T09:54:15.485110Z",
     "start_time": "2021-06-30T09:54:15.465318Z"
    }
   },
   "outputs": [
    {
     "data": {
      "text/html": [
       "<div>\n",
       "<style scoped>\n",
       "    .dataframe tbody tr th:only-of-type {\n",
       "        vertical-align: middle;\n",
       "    }\n",
       "\n",
       "    .dataframe tbody tr th {\n",
       "        vertical-align: top;\n",
       "    }\n",
       "\n",
       "    .dataframe thead th {\n",
       "        text-align: right;\n",
       "    }\n",
       "</style>\n",
       "<table border=\"1\" class=\"dataframe\">\n",
       "  <thead>\n",
       "    <tr style=\"text-align: right;\">\n",
       "      <th></th>\n",
       "      <th>original_title</th>\n",
       "      <th>title</th>\n",
       "      <th>release_date</th>\n",
       "      <th>duration_min</th>\n",
       "      <th>description</th>\n",
       "      <th>budget</th>\n",
       "      <th>original_language</th>\n",
       "      <th>status</th>\n",
       "      <th>number_of_awards_won</th>\n",
       "      <th>number_of_nominations</th>\n",
       "      <th>has_collection</th>\n",
       "      <th>all_genres</th>\n",
       "      <th>top_countries</th>\n",
       "      <th>number_of_top_productions</th>\n",
       "      <th>available_in_english</th>\n",
       "    </tr>\n",
       "  </thead>\n",
       "  <tbody>\n",
       "    <tr>\n",
       "      <th>0</th>\n",
       "      <td>La Casa de Papel</td>\n",
       "      <td>Money Heist</td>\n",
       "      <td>2017-05-02</td>\n",
       "      <td>50.0</td>\n",
       "      <td>An unusual group of robbers attempt to carry o...</td>\n",
       "      <td>3000000.0</td>\n",
       "      <td>es</td>\n",
       "      <td>Released</td>\n",
       "      <td>2</td>\n",
       "      <td>5</td>\n",
       "      <td>1</td>\n",
       "      <td>Action, Crime, Mystery</td>\n",
       "      <td>Spain, France, United States of America</td>\n",
       "      <td>1</td>\n",
       "      <td>True</td>\n",
       "    </tr>\n",
       "  </tbody>\n",
       "</table>\n",
       "</div>"
      ],
      "text/plain": [
       "     original_title        title release_date  duration_min  \\\n",
       "0  La Casa de Papel  Money Heist   2017-05-02          50.0   \n",
       "\n",
       "                                         description     budget  \\\n",
       "0  An unusual group of robbers attempt to carry o...  3000000.0   \n",
       "\n",
       "  original_language    status  number_of_awards_won  number_of_nominations  \\\n",
       "0                es  Released                     2                      5   \n",
       "\n",
       "   has_collection              all_genres  \\\n",
       "0               1  Action, Crime, Mystery   \n",
       "\n",
       "                             top_countries  number_of_top_productions  \\\n",
       "0  Spain, France, United States of America                          1   \n",
       "\n",
       "   available_in_english  \n",
       "0                  True  "
      ]
     },
     "execution_count": 136,
     "metadata": {},
     "output_type": "execute_result"
    }
   ],
   "source": [
    "prediction"
   ]
  },
  {
   "cell_type": "code",
   "execution_count": 139,
   "metadata": {
    "ExecuteTime": {
     "end_time": "2021-06-30T09:55:19.547706Z",
     "start_time": "2021-06-30T09:55:19.500565Z"
    },
    "tags": [
     "challengify"
    ]
   },
   "outputs": [
    {
     "data": {
      "text/plain": [
       "13.090251741002232"
      ]
     },
     "execution_count": 139,
     "metadata": {},
     "output_type": "execute_result"
    }
   ],
   "source": [
    "# YOUR CODE HERE\n",
    "popularity = best_pipeline.predict(prediction)[0]\n",
    "popularity"
   ]
  },
  {
   "cell_type": "markdown",
   "metadata": {},
   "source": [
    "### 🧪 Save your results\n",
    "\n",
    "Run the following cell to save your results."
   ]
  },
  {
   "cell_type": "code",
   "execution_count": 140,
   "metadata": {
    "ExecuteTime": {
     "end_time": "2021-06-30T09:55:24.967189Z",
     "start_time": "2021-06-30T09:55:24.740023Z"
    }
   },
   "outputs": [],
   "source": [
    "ChallengeResult(\n",
    "    \"model_tuning\",\n",
    "    search=search,\n",
    "    best_pipeline=best_pipeline,\n",
    "    best_scores = best_scores,\n",
    "    popularity=popularity\n",
    ").write()"
   ]
  },
  {
   "cell_type": "markdown",
   "metadata": {},
   "source": [
    "## API \n",
    "\n",
    "Time to put a pipeline in production!\n",
    "\n",
    "👉 Go to https://github.com/lewagon/data-certification-api and follow instructions\n",
    "\n",
    "**This final part is independent from the above notebook**"
   ]
  }
 ],
 "metadata": {
  "interpreter": {
   "hash": "572b4e543617d03e90ecaf525e08695da1ff29b13594f787e33b342cf572f792"
  },
  "kernelspec": {
   "display_name": "Python 3",
   "language": "python",
   "name": "python3"
  },
  "language_info": {
   "codemirror_mode": {
    "name": "ipython",
    "version": 3
   },
   "file_extension": ".py",
   "mimetype": "text/x-python",
   "name": "python",
   "nbconvert_exporter": "python",
   "pygments_lexer": "ipython3",
   "version": "3.8.6"
  },
  "toc": {
   "base_numbering": 1,
   "nav_menu": {},
   "number_sections": true,
   "sideBar": true,
   "skip_h1_title": true,
   "title_cell": "Table of Contents",
   "title_sidebar": "Contents",
   "toc_cell": false,
   "toc_position": {
    "height": "calc(100% - 180px)",
    "left": "10px",
    "top": "150px",
    "width": "242px"
   },
   "toc_section_display": true,
   "toc_window_display": true
  },
  "varInspector": {
   "cols": {
    "lenName": 16,
    "lenType": 16,
    "lenVar": 40
   },
   "kernels_config": {
    "python": {
     "delete_cmd_postfix": "",
     "delete_cmd_prefix": "del ",
     "library": "var_list.py",
     "varRefreshCmd": "print(var_dic_list())"
    },
    "r": {
     "delete_cmd_postfix": ") ",
     "delete_cmd_prefix": "rm(",
     "library": "var_list.r",
     "varRefreshCmd": "cat(var_dic_list()) "
    }
   },
   "types_to_exclude": [
    "module",
    "function",
    "builtin_function_or_method",
    "instance",
    "_Feature"
   ],
   "window_display": false
  }
 },
 "nbformat": 4,
 "nbformat_minor": 4
}
